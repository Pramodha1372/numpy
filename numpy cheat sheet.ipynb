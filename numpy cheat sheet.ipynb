{
 "cells": [
  {
   "cell_type": "markdown",
   "id": "0cb6007c",
   "metadata": {},
   "source": [
    "### Installing, loading and checking the version of numpy"
   ]
  },
  {
   "cell_type": "code",
   "execution_count": 1,
   "id": "8c7e982e",
   "metadata": {},
   "outputs": [],
   "source": [
    "from IPython.core.interactiveshell import InteractiveShell\n",
    "InteractiveShell.ast_node_interactivity = 'all'"
   ]
  },
  {
   "cell_type": "code",
   "execution_count": 2,
   "id": "07b04dc0",
   "metadata": {},
   "outputs": [
    {
     "name": "stdout",
     "output_type": "stream",
     "text": [
      "Collecting package metadata (current_repodata.json): ...working... done\n",
      "Solving environment: ...working... done\n",
      "\n",
      "# All requested packages already installed.\n",
      "\n",
      "\n",
      "Note: you may need to restart the kernel to use updated packages.\n"
     ]
    },
    {
     "name": "stderr",
     "output_type": "stream",
     "text": [
      "\n",
      "\n",
      "==> WARNING: A newer version of conda exists. <==\n",
      "  current version: 23.3.1\n",
      "  latest version: 23.7.2\n",
      "\n",
      "Please update conda by running\n",
      "\n",
      "    $ conda update -n base -c defaults conda\n",
      "\n",
      "Or to minimize the number of packages updated during conda update use\n",
      "\n",
      "     conda install conda=23.7.2\n",
      "\n",
      "\n"
     ]
    }
   ],
   "source": [
    "conda install numpy"
   ]
  },
  {
   "cell_type": "code",
   "execution_count": 3,
   "id": "e9117a9d",
   "metadata": {},
   "outputs": [
    {
     "name": "stdout",
     "output_type": "stream",
     "text": [
      "Requirement already satisfied: numpy in c:\\users\\lenovo\\anaconda3\\lib\\site-packages (1.23.5)\n"
     ]
    }
   ],
   "source": [
    "!pip install numpy"
   ]
  },
  {
   "cell_type": "code",
   "execution_count": 4,
   "id": "978d4c85",
   "metadata": {},
   "outputs": [
    {
     "data": {
      "text/plain": [
       "'1.23.5'"
      ]
     },
     "execution_count": 4,
     "metadata": {},
     "output_type": "execute_result"
    },
    {
     "data": {
      "text/plain": [
       "'1.23.5'"
      ]
     },
     "execution_count": 4,
     "metadata": {},
     "output_type": "execute_result"
    }
   ],
   "source": [
    "import numpy as np\n",
    "np.version.version\n",
    "np.__version__"
   ]
  },
  {
   "cell_type": "markdown",
   "id": "0433f6a6",
   "metadata": {},
   "source": [
    "### Creating 1D, 2D and 3D arrays"
   ]
  },
  {
   "cell_type": "code",
   "execution_count": 5,
   "id": "2bceb984",
   "metadata": {},
   "outputs": [
    {
     "data": {
      "text/plain": [
       "array([1, 2, 3, 4, 5, 6])"
      ]
     },
     "execution_count": 5,
     "metadata": {},
     "output_type": "execute_result"
    },
    {
     "data": {
      "text/plain": [
       "array([1, 2, 3, 4, 5, 6])"
      ]
     },
     "execution_count": 5,
     "metadata": {},
     "output_type": "execute_result"
    }
   ],
   "source": [
    "arr1 = np.array((1,2,3,4,5,6))\n",
    "arr2 = np.array([1,2,3,4,5,6])\n",
    "arr1\n",
    "arr2"
   ]
  },
  {
   "cell_type": "code",
   "execution_count": 6,
   "id": "bb1a8c32",
   "metadata": {},
   "outputs": [
    {
     "data": {
      "text/plain": [
       "array([50, 51, 52, 53, 54, 55, 56, 57, 58, 59, 60, 61, 62, 63, 64, 65, 66,\n",
       "       67, 68, 69, 70, 71, 72, 73, 74, 75, 76, 77, 78, 79, 80, 81, 82, 83,\n",
       "       84, 85, 86, 87, 88, 89, 90, 91, 92, 93, 94, 95, 96, 97, 98, 99])"
      ]
     },
     "execution_count": 6,
     "metadata": {},
     "output_type": "execute_result"
    },
    {
     "data": {
      "text/plain": [
       "array([[50, 51, 52, 53, 54, 55, 56, 57, 58, 59, 60, 61, 62, 63, 64, 65,\n",
       "        66, 67, 68, 69, 70, 71, 72, 73, 74],\n",
       "       [75, 76, 77, 78, 79, 80, 81, 82, 83, 84, 85, 86, 87, 88, 89, 90,\n",
       "        91, 92, 93, 94, 95, 96, 97, 98, 99]])"
      ]
     },
     "execution_count": 6,
     "metadata": {},
     "output_type": "execute_result"
    },
    {
     "data": {
      "text/plain": [
       "array([[[50, 51, 52, 53, 54],\n",
       "        [55, 56, 57, 58, 59]],\n",
       "\n",
       "       [[60, 61, 62, 63, 64],\n",
       "        [65, 66, 67, 68, 69]],\n",
       "\n",
       "       [[70, 71, 72, 73, 74],\n",
       "        [75, 76, 77, 78, 79]],\n",
       "\n",
       "       [[80, 81, 82, 83, 84],\n",
       "        [85, 86, 87, 88, 89]],\n",
       "\n",
       "       [[90, 91, 92, 93, 94],\n",
       "        [95, 96, 97, 98, 99]]])"
      ]
     },
     "execution_count": 6,
     "metadata": {},
     "output_type": "execute_result"
    }
   ],
   "source": [
    "array1D = np.array (range(50,100))\n",
    "array2D = np.arange(50,100).reshape(2,25)\n",
    "array3D = np.arange(50,100).reshape(5,2,5)\n",
    "array1D\n",
    "array2D\n",
    "array3D"
   ]
  },
  {
   "cell_type": "code",
   "execution_count": 7,
   "id": "33cd24bc",
   "metadata": {},
   "outputs": [
    {
     "data": {
      "text/plain": [
       "array([50, 51, 52, 53, 54, 55, 56, 57, 58, 59, 60, 61, 62, 63, 64, 65, 66,\n",
       "       67, 68, 69, 70, 71, 72, 73, 74, 75, 76, 77, 78, 79, 80, 81, 82, 83,\n",
       "       84, 85, 86, 87, 88, 89, 90, 91, 92, 93, 94, 95, 96, 97, 98, 99])"
      ]
     },
     "execution_count": 7,
     "metadata": {},
     "output_type": "execute_result"
    },
    {
     "data": {
      "text/plain": [
       "array([[50, 51, 52, 53, 54, 55, 56, 57, 58, 59, 60, 61, 62, 63, 64, 65,\n",
       "        66, 67, 68, 69, 70, 71, 72, 73, 74],\n",
       "       [75, 76, 77, 78, 79, 80, 81, 82, 83, 84, 85, 86, 87, 88, 89, 90,\n",
       "        91, 92, 93, 94, 95, 96, 97, 98, 99]])"
      ]
     },
     "execution_count": 7,
     "metadata": {},
     "output_type": "execute_result"
    },
    {
     "data": {
      "text/plain": [
       "array([[[50, 51, 52, 53, 54],\n",
       "        [55, 56, 57, 58, 59]],\n",
       "\n",
       "       [[60, 61, 62, 63, 64],\n",
       "        [65, 66, 67, 68, 69]],\n",
       "\n",
       "       [[70, 71, 72, 73, 74],\n",
       "        [75, 76, 77, 78, 79]],\n",
       "\n",
       "       [[80, 81, 82, 83, 84],\n",
       "        [85, 86, 87, 88, 89]],\n",
       "\n",
       "       [[90, 91, 92, 93, 94],\n",
       "        [95, 96, 97, 98, 99]]])"
      ]
     },
     "execution_count": 7,
     "metadata": {},
     "output_type": "execute_result"
    }
   ],
   "source": [
    "array1d = np.array([50, 51, 52, 53, 54, 55, 56, 57, 58, 59, 60, 61, 62, 63, 64, 65, 66,\n",
    "       67, 68, 69, 70, 71, 72, 73, 74, 75, 76, 77, 78, 79, 80, 81, 82, 83,\n",
    "       84, 85, 86, 87, 88, 89, 90, 91, 92, 93, 94, 95, 96, 97, 98, 99])\n",
    "\n",
    "array2d = np.array([[50, 51, 52, 53, 54, 55, 56, 57, 58, 59, 60, 61, 62, 63, 64, 65,\n",
    "        66, 67, 68, 69, 70, 71, 72, 73, 74],\n",
    "       [75, 76, 77, 78, 79, 80, 81, 82, 83, 84, 85, 86, 87, 88, 89, 90,\n",
    "        91, 92, 93, 94, 95, 96, 97, 98, 99]])\n",
    "\n",
    "array3d = np.array([[[50, 51, 52, 53, 54],\n",
    "                     [55, 56, 57, 58, 59]],\n",
    "\n",
    "                    [[60, 61, 62, 63, 64],\n",
    "                     [65, 66, 67, 68, 69]],\n",
    "\n",
    "                    [[70, 71, 72, 73, 74],\n",
    "                     [75, 76, 77, 78, 79]],\n",
    "\n",
    "                    [[80, 81, 82, 83, 84],\n",
    "                     [85, 86, 87, 88, 89]],\n",
    "\n",
    "                    [[90, 91, 92, 93, 94],\n",
    "                     [95, 96, 97, 98, 99]]])\n",
    "\n",
    "array1d\n",
    "array2d\n",
    "array3d"
   ]
  },
  {
   "cell_type": "markdown",
   "id": "3f8bd7d2",
   "metadata": {},
   "source": [
    "### Built-In FUNCTIONS"
   ]
  },
  {
   "cell_type": "code",
   "execution_count": 8,
   "id": "603df8ef",
   "metadata": {},
   "outputs": [
    {
     "data": {
      "text/plain": [
       "array([50, 51, 52, 53, 54, 55, 56, 57, 58, 59, 60, 61, 62, 63, 64, 65, 66,\n",
       "       67, 68, 69, 70, 71, 72, 73, 74, 75, 76, 77, 78, 79, 80, 81, 82, 83,\n",
       "       84, 85, 86, 87, 88, 89, 90, 91, 92, 93, 94, 95, 96, 97, 98, 99])"
      ]
     },
     "execution_count": 8,
     "metadata": {},
     "output_type": "execute_result"
    },
    {
     "data": {
      "text/plain": [
       "array([[50, 51, 52, 53, 54, 55, 56, 57, 58, 59, 60, 61, 62, 63, 64, 65,\n",
       "        66, 67, 68, 69, 70, 71, 72, 73, 74],\n",
       "       [75, 76, 77, 78, 79, 80, 81, 82, 83, 84, 85, 86, 87, 88, 89, 90,\n",
       "        91, 92, 93, 94, 95, 96, 97, 98, 99]])"
      ]
     },
     "execution_count": 8,
     "metadata": {},
     "output_type": "execute_result"
    },
    {
     "data": {
      "text/plain": [
       "array([[[50, 51, 52, 53, 54],\n",
       "        [55, 56, 57, 58, 59]],\n",
       "\n",
       "       [[60, 61, 62, 63, 64],\n",
       "        [65, 66, 67, 68, 69]],\n",
       "\n",
       "       [[70, 71, 72, 73, 74],\n",
       "        [75, 76, 77, 78, 79]],\n",
       "\n",
       "       [[80, 81, 82, 83, 84],\n",
       "        [85, 86, 87, 88, 89]],\n",
       "\n",
       "       [[90, 91, 92, 93, 94],\n",
       "        [95, 96, 97, 98, 99]]])"
      ]
     },
     "execution_count": 8,
     "metadata": {},
     "output_type": "execute_result"
    }
   ],
   "source": [
    "array1D\n",
    "array2D\n",
    "array3D"
   ]
  },
  {
   "cell_type": "code",
   "execution_count": 9,
   "id": "fabce001",
   "metadata": {},
   "outputs": [
    {
     "data": {
      "text/plain": [
       "dtype('int32')"
      ]
     },
     "execution_count": 9,
     "metadata": {},
     "output_type": "execute_result"
    },
    {
     "data": {
      "text/plain": [
       "dtype('int32')"
      ]
     },
     "execution_count": 9,
     "metadata": {},
     "output_type": "execute_result"
    },
    {
     "data": {
      "text/plain": [
       "dtype('int32')"
      ]
     },
     "execution_count": 9,
     "metadata": {},
     "output_type": "execute_result"
    }
   ],
   "source": [
    "# dtype -----> type of the data used inside the numpy arrays\n",
    "array1D.dtype\n",
    "array2D.dtype\n",
    "array3D.dtype"
   ]
  },
  {
   "cell_type": "code",
   "execution_count": 10,
   "id": "d4b38660",
   "metadata": {},
   "outputs": [
    {
     "data": {
      "text/plain": [
       "dtype('<U2')"
      ]
     },
     "execution_count": 10,
     "metadata": {},
     "output_type": "execute_result"
    },
    {
     "data": {
      "text/plain": [
       "dtype('int32')"
      ]
     },
     "execution_count": 10,
     "metadata": {},
     "output_type": "execute_result"
    },
    {
     "data": {
      "text/plain": [
       "dtype('int32')"
      ]
     },
     "execution_count": 10,
     "metadata": {},
     "output_type": "execute_result"
    }
   ],
   "source": [
    "array1D = np.array (range(50,100), dtype = 'str')\n",
    "array2D = np.arange(50,100).reshape(2,25)\n",
    "array3D = np.arange(50,100).reshape(5,2,5)\n",
    "array1D.dtype\n",
    "array2D.dtype\n",
    "array3D.dtype"
   ]
  },
  {
   "cell_type": "code",
   "execution_count": 11,
   "id": "962cf408",
   "metadata": {},
   "outputs": [
    {
     "data": {
      "text/plain": [
       "(50,)"
      ]
     },
     "execution_count": 11,
     "metadata": {},
     "output_type": "execute_result"
    },
    {
     "data": {
      "text/plain": [
       "(2, 25)"
      ]
     },
     "execution_count": 11,
     "metadata": {},
     "output_type": "execute_result"
    },
    {
     "data": {
      "text/plain": [
       "(5, 2, 5)"
      ]
     },
     "execution_count": 11,
     "metadata": {},
     "output_type": "execute_result"
    }
   ],
   "source": [
    "# shape -----> structure of the numpy arrays\n",
    "array1D.shape\n",
    "array2D.shape\n",
    "array3D.shape"
   ]
  },
  {
   "cell_type": "code",
   "execution_count": 12,
   "id": "43a46d7f",
   "metadata": {},
   "outputs": [
    {
     "data": {
      "text/plain": [
       "array([50, 51, 52, 53, 54, 55, 56, 57, 58, 59, 60, 61, 62, 63, 64, 65, 66,\n",
       "       67, 68, 69, 70, 71, 72, 73, 74, 75, 76, 77, 78, 79, 80, 81, 82, 83,\n",
       "       84, 85, 86, 87, 88, 89, 90, 91, 92, 93, 94, 95, 96, 97, 98, 99])"
      ]
     },
     "execution_count": 12,
     "metadata": {},
     "output_type": "execute_result"
    },
    {
     "data": {
      "text/plain": [
       "array([[50, 51, 52, 53, 54, 55, 56, 57, 58, 59, 60, 61, 62, 63, 64, 65,\n",
       "        66, 67, 68, 69, 70, 71, 72, 73, 74],\n",
       "       [75, 76, 77, 78, 79, 80, 81, 82, 83, 84, 85, 86, 87, 88, 89, 90,\n",
       "        91, 92, 93, 94, 95, 96, 97, 98, 99]])"
      ]
     },
     "execution_count": 12,
     "metadata": {},
     "output_type": "execute_result"
    },
    {
     "data": {
      "text/plain": [
       "array([[[50, 51, 52, 53, 54],\n",
       "        [55, 56, 57, 58, 59]],\n",
       "\n",
       "       [[60, 61, 62, 63, 64],\n",
       "        [65, 66, 67, 68, 69]],\n",
       "\n",
       "       [[70, 71, 72, 73, 74],\n",
       "        [75, 76, 77, 78, 79]],\n",
       "\n",
       "       [[80, 81, 82, 83, 84],\n",
       "        [85, 86, 87, 88, 89]],\n",
       "\n",
       "       [[90, 91, 92, 93, 94],\n",
       "        [95, 96, 97, 98, 99]]])"
      ]
     },
     "execution_count": 12,
     "metadata": {},
     "output_type": "execute_result"
    }
   ],
   "source": [
    "# range -----> in between the start and stop values\n",
    "array1D = np.array (range(50,100))\n",
    "array2D = np.arange(50,100).reshape(2,25)\n",
    "array3D = np.arange(50,100).reshape(5,2,5)\n",
    "array1D\n",
    "array2D\n",
    "array3D"
   ]
  },
  {
   "cell_type": "code",
   "execution_count": 13,
   "id": "9c659f28",
   "metadata": {},
   "outputs": [
    {
     "data": {
      "text/plain": [
       "array([50, 60, 70, 80, 90])"
      ]
     },
     "execution_count": 13,
     "metadata": {},
     "output_type": "execute_result"
    },
    {
     "data": {
      "text/plain": [
       "array([[50, 55, 60, 65, 70],\n",
       "       [75, 80, 85, 90, 95]])"
      ]
     },
     "execution_count": 13,
     "metadata": {},
     "output_type": "execute_result"
    },
    {
     "data": {
      "text/plain": [
       "array([[[50],\n",
       "        [55]],\n",
       "\n",
       "       [[60],\n",
       "        [65]],\n",
       "\n",
       "       [[70],\n",
       "        [75]],\n",
       "\n",
       "       [[80],\n",
       "        [85]],\n",
       "\n",
       "       [[90],\n",
       "        [95]]])"
      ]
     },
     "execution_count": 13,
     "metadata": {},
     "output_type": "execute_result"
    }
   ],
   "source": [
    "# range -----> in between the start and stop values with some steps\n",
    "array1D = np.array (range(50,100,10))\n",
    "array2D = np.arange(50,100,5).reshape(2,5)\n",
    "array3D = np.arange(50,100,5).reshape(5,2,1)\n",
    "array1D\n",
    "array2D\n",
    "array3D"
   ]
  },
  {
   "cell_type": "code",
   "execution_count": 14,
   "id": "51e8cc6e",
   "metadata": {},
   "outputs": [
    {
     "data": {
      "text/plain": [
       "1"
      ]
     },
     "execution_count": 14,
     "metadata": {},
     "output_type": "execute_result"
    },
    {
     "data": {
      "text/plain": [
       "2"
      ]
     },
     "execution_count": 14,
     "metadata": {},
     "output_type": "execute_result"
    },
    {
     "data": {
      "text/plain": [
       "3"
      ]
     },
     "execution_count": 14,
     "metadata": {},
     "output_type": "execute_result"
    }
   ],
   "source": [
    "# ndim -----> tells whether it is 1D, 2D, 3D or so on\n",
    "array1D = np.array (range(50,100))\n",
    "array2D = np.arange(50,100).reshape(2,25)\n",
    "array3D = np.arange(50,100).reshape(5,2,5)\n",
    "array1D.ndim\n",
    "array2D.ndim\n",
    "array3D.ndim"
   ]
  },
  {
   "cell_type": "code",
   "execution_count": 15,
   "id": "7b17cf20",
   "metadata": {},
   "outputs": [
    {
     "data": {
      "text/plain": [
       "25"
      ]
     },
     "execution_count": 15,
     "metadata": {},
     "output_type": "execute_result"
    },
    {
     "data": {
      "text/plain": [
       "2"
      ]
     },
     "execution_count": 15,
     "metadata": {},
     "output_type": "execute_result"
    },
    {
     "data": {
      "text/plain": [
       "3"
      ]
     },
     "execution_count": 15,
     "metadata": {},
     "output_type": "execute_result"
    }
   ],
   "source": [
    "# ndmin -----> instruct you to take those dimensions inside the numpy array\n",
    "array1D = np.array (range(50,100) , ndmin = 25)\n",
    "array2D = np.arange(50,100).reshape(2,25)\n",
    "array3D = np.arange(50,100).reshape(5,2,5)\n",
    "array1D.ndim\n",
    "array2D.ndim\n",
    "array3D.ndim"
   ]
  },
  {
   "cell_type": "code",
   "execution_count": 16,
   "id": "0945c84d",
   "metadata": {},
   "outputs": [
    {
     "data": {
      "text/plain": [
       "50"
      ]
     },
     "execution_count": 16,
     "metadata": {},
     "output_type": "execute_result"
    },
    {
     "data": {
      "text/plain": [
       "50"
      ]
     },
     "execution_count": 16,
     "metadata": {},
     "output_type": "execute_result"
    },
    {
     "data": {
      "text/plain": [
       "50"
      ]
     },
     "execution_count": 16,
     "metadata": {},
     "output_type": "execute_result"
    }
   ],
   "source": [
    "# size -----> total number of elements\n",
    "array1D = np.array (range(50,100))\n",
    "array2D = np.arange(50,100).reshape(2,25)\n",
    "array3D = np.arange(50,100).reshape(5,2,5)\n",
    "array1D.size\n",
    "array2D.size\n",
    "array3D.size"
   ]
  },
  {
   "cell_type": "code",
   "execution_count": 17,
   "id": "8ec0f9e1",
   "metadata": {},
   "outputs": [
    {
     "data": {
      "text/plain": [
       "200"
      ]
     },
     "execution_count": 17,
     "metadata": {},
     "output_type": "execute_result"
    },
    {
     "data": {
      "text/plain": [
       "200"
      ]
     },
     "execution_count": 17,
     "metadata": {},
     "output_type": "execute_result"
    },
    {
     "data": {
      "text/plain": [
       "200"
      ]
     },
     "execution_count": 17,
     "metadata": {},
     "output_type": "execute_result"
    }
   ],
   "source": [
    "# nbytes -----> total number of bits (1 byte = 4 bits)\n",
    "array1D = np.array (range(50,100))\n",
    "array2D = np.arange(50,100).reshape(2,25)\n",
    "array3D = np.arange(50,100).reshape(5,2,5)\n",
    "array1D.nbytes\n",
    "array2D.nbytes\n",
    "array3D.nbytes"
   ]
  },
  {
   "cell_type": "code",
   "execution_count": 18,
   "id": "0d6b822e",
   "metadata": {},
   "outputs": [
    {
     "data": {
      "text/plain": [
       "(50,)"
      ]
     },
     "execution_count": 18,
     "metadata": {},
     "output_type": "execute_result"
    },
    {
     "data": {
      "text/plain": [
       "(2, 25)"
      ]
     },
     "execution_count": 18,
     "metadata": {},
     "output_type": "execute_result"
    },
    {
     "data": {
      "text/plain": [
       "(5, 2, 5)"
      ]
     },
     "execution_count": 18,
     "metadata": {},
     "output_type": "execute_result"
    },
    {
     "data": {
      "text/plain": [
       "array([50, 51, 52, 53, 54, 55, 56, 57, 58, 59, 60, 61, 62, 63, 64, 65, 66,\n",
       "       67, 68, 69, 70, 71, 72, 73, 74, 75, 76, 77, 78, 79, 80, 81, 82, 83,\n",
       "       84, 85, 86, 87, 88, 89, 90, 91, 92, 93, 94, 95, 96, 97, 98, 99])"
      ]
     },
     "execution_count": 18,
     "metadata": {},
     "output_type": "execute_result"
    },
    {
     "data": {
      "text/plain": [
       "array([[50, 51, 52, 53, 54, 55, 56, 57, 58, 59, 60, 61, 62, 63, 64, 65,\n",
       "        66, 67, 68, 69, 70, 71, 72, 73, 74],\n",
       "       [75, 76, 77, 78, 79, 80, 81, 82, 83, 84, 85, 86, 87, 88, 89, 90,\n",
       "        91, 92, 93, 94, 95, 96, 97, 98, 99]])"
      ]
     },
     "execution_count": 18,
     "metadata": {},
     "output_type": "execute_result"
    },
    {
     "data": {
      "text/plain": [
       "array([[[50, 51, 52, 53, 54],\n",
       "        [55, 56, 57, 58, 59]],\n",
       "\n",
       "       [[60, 61, 62, 63, 64],\n",
       "        [65, 66, 67, 68, 69]],\n",
       "\n",
       "       [[70, 71, 72, 73, 74],\n",
       "        [75, 76, 77, 78, 79]],\n",
       "\n",
       "       [[80, 81, 82, 83, 84],\n",
       "        [85, 86, 87, 88, 89]],\n",
       "\n",
       "       [[90, 91, 92, 93, 94],\n",
       "        [95, 96, 97, 98, 99]]])"
      ]
     },
     "execution_count": 18,
     "metadata": {},
     "output_type": "execute_result"
    },
    {
     "data": {
      "text/plain": [
       "(5, 5, 2)"
      ]
     },
     "execution_count": 18,
     "metadata": {},
     "output_type": "execute_result"
    },
    {
     "data": {
      "text/plain": [
       "(2, 25)"
      ]
     },
     "execution_count": 18,
     "metadata": {},
     "output_type": "execute_result"
    },
    {
     "data": {
      "text/plain": [
       "(5, 2, 5)"
      ]
     },
     "execution_count": 18,
     "metadata": {},
     "output_type": "execute_result"
    },
    {
     "data": {
      "text/plain": [
       "array([[[50, 51],\n",
       "        [52, 53],\n",
       "        [54, 55],\n",
       "        [56, 57],\n",
       "        [58, 59]],\n",
       "\n",
       "       [[60, 61],\n",
       "        [62, 63],\n",
       "        [64, 65],\n",
       "        [66, 67],\n",
       "        [68, 69]],\n",
       "\n",
       "       [[70, 71],\n",
       "        [72, 73],\n",
       "        [74, 75],\n",
       "        [76, 77],\n",
       "        [78, 79]],\n",
       "\n",
       "       [[80, 81],\n",
       "        [82, 83],\n",
       "        [84, 85],\n",
       "        [86, 87],\n",
       "        [88, 89]],\n",
       "\n",
       "       [[90, 91],\n",
       "        [92, 93],\n",
       "        [94, 95],\n",
       "        [96, 97],\n",
       "        [98, 99]]])"
      ]
     },
     "execution_count": 18,
     "metadata": {},
     "output_type": "execute_result"
    },
    {
     "data": {
      "text/plain": [
       "array([[50, 51, 52, 53, 54, 55, 56, 57, 58, 59, 60, 61, 62, 63, 64, 65,\n",
       "        66, 67, 68, 69, 70, 71, 72, 73, 74],\n",
       "       [75, 76, 77, 78, 79, 80, 81, 82, 83, 84, 85, 86, 87, 88, 89, 90,\n",
       "        91, 92, 93, 94, 95, 96, 97, 98, 99]])"
      ]
     },
     "execution_count": 18,
     "metadata": {},
     "output_type": "execute_result"
    },
    {
     "data": {
      "text/plain": [
       "array([[[50, 51, 52, 53, 54],\n",
       "        [55, 56, 57, 58, 59]],\n",
       "\n",
       "       [[60, 61, 62, 63, 64],\n",
       "        [65, 66, 67, 68, 69]],\n",
       "\n",
       "       [[70, 71, 72, 73, 74],\n",
       "        [75, 76, 77, 78, 79]],\n",
       "\n",
       "       [[80, 81, 82, 83, 84],\n",
       "        [85, 86, 87, 88, 89]],\n",
       "\n",
       "       [[90, 91, 92, 93, 94],\n",
       "        [95, 96, 97, 98, 99]]])"
      ]
     },
     "execution_count": 18,
     "metadata": {},
     "output_type": "execute_result"
    }
   ],
   "source": [
    "# reshape -----> reshaping the numpy array into requried dimesntions\n",
    "array1D = np.array (range(50,100))\n",
    "array2D = np.arange(50,100).reshape(2,25)\n",
    "array3D = np.arange(50,100).reshape(5,2,5)\n",
    "array1D.shape\n",
    "array2D.shape\n",
    "array3D.shape\n",
    "array1D\n",
    "array2D\n",
    "array3D\n",
    "array1D = np.array (range(50,100)).reshape (5,5,2)\n",
    "array1D.shape\n",
    "array2D.shape\n",
    "array3D.shape\n",
    "array1D\n",
    "array2D\n",
    "array3D"
   ]
  },
  {
   "cell_type": "markdown",
   "id": "0c2cafe0",
   "metadata": {},
   "source": [
    "### Special Functions"
   ]
  },
  {
   "cell_type": "code",
   "execution_count": 19,
   "id": "5dca1331",
   "metadata": {},
   "outputs": [
    {
     "data": {
      "text/plain": [
       "array([50, 51, 52, 53, 54, 55, 56, 57, 58, 59, 60, 61, 62, 63, 64, 65, 66,\n",
       "       67, 68, 69, 70, 71, 72, 73, 74, 75, 76, 77, 78, 79, 80, 81, 82, 83,\n",
       "       84, 85, 86, 87, 88, 89, 90, 91, 92, 93, 94, 95, 96, 97, 98, 99])"
      ]
     },
     "execution_count": 19,
     "metadata": {},
     "output_type": "execute_result"
    },
    {
     "data": {
      "text/plain": [
       "array([[50. , 55.2, 60.4, 65.6, 70.8],\n",
       "       [76. , 81.2, 86.4, 91.6, 96.8]])"
      ]
     },
     "execution_count": 19,
     "metadata": {},
     "output_type": "execute_result"
    },
    {
     "data": {
      "text/plain": [
       "array([[[50. ],\n",
       "        [55.2]],\n",
       "\n",
       "       [[60.4],\n",
       "        [65.6]],\n",
       "\n",
       "       [[70.8],\n",
       "        [76. ]],\n",
       "\n",
       "       [[81.2],\n",
       "        [86.4]],\n",
       "\n",
       "       [[91.6],\n",
       "        [96.8]]])"
      ]
     },
     "execution_count": 19,
     "metadata": {},
     "output_type": "execute_result"
    }
   ],
   "source": [
    "# arange -----> in between the start and stop(excluded) with specified float vlaue steps\n",
    "array1D = np.array (range(50,100))\n",
    "array2D = np.arange(50,100,5.2).reshape(2,5)\n",
    "array3D = np.arange(50,100,5.2).reshape(5,2,1)\n",
    "array1D\n",
    "array2D\n",
    "array3D"
   ]
  },
  {
   "cell_type": "code",
   "execution_count": 20,
   "id": "802b6c7a",
   "metadata": {},
   "outputs": [
    {
     "data": {
      "text/plain": [
       "array([50, 60, 70, 80, 90])"
      ]
     },
     "execution_count": 20,
     "metadata": {},
     "output_type": "execute_result"
    },
    {
     "data": {
      "text/plain": [
       "array([[ 50.        ,  55.55555556,  61.11111111,  66.66666667,\n",
       "         72.22222222],\n",
       "       [ 77.77777778,  83.33333333,  88.88888889,  94.44444444,\n",
       "        100.        ]])"
      ]
     },
     "execution_count": 20,
     "metadata": {},
     "output_type": "execute_result"
    },
    {
     "data": {
      "text/plain": [
       "array([[ 50. ],\n",
       "       [ 62.5],\n",
       "       [ 75. ],\n",
       "       [ 87.5],\n",
       "       [100. ]])"
      ]
     },
     "execution_count": 20,
     "metadata": {},
     "output_type": "execute_result"
    }
   ],
   "source": [
    "# linespace -----> in between the start and stop(included) with specified float vlaue steps\n",
    "array1 = np.array (range(50,100,10))\n",
    "array2 = np.linspace(50,100,10).reshape((2,5))\n",
    "array3 = np.linspace(50,100,5).reshape((5,1))\n",
    "array1\n",
    "array2\n",
    "array3"
   ]
  },
  {
   "cell_type": "code",
   "execution_count": 21,
   "id": "771f8dbd",
   "metadata": {},
   "outputs": [
    {
     "data": {
      "text/plain": [
       "array([0.])"
      ]
     },
     "execution_count": 21,
     "metadata": {},
     "output_type": "execute_result"
    },
    {
     "data": {
      "text/plain": [
       "array([[0., 0.],\n",
       "       [0., 0.],\n",
       "       [0., 0.],\n",
       "       [0., 0.],\n",
       "       [0., 0.]])"
      ]
     },
     "execution_count": 21,
     "metadata": {},
     "output_type": "execute_result"
    },
    {
     "data": {
      "text/plain": [
       "array([[[0., 0., 0., 0., 0., 0., 0., 0., 0., 0.],\n",
       "        [0., 0., 0., 0., 0., 0., 0., 0., 0., 0.]],\n",
       "\n",
       "       [[0., 0., 0., 0., 0., 0., 0., 0., 0., 0.],\n",
       "        [0., 0., 0., 0., 0., 0., 0., 0., 0., 0.]],\n",
       "\n",
       "       [[0., 0., 0., 0., 0., 0., 0., 0., 0., 0.],\n",
       "        [0., 0., 0., 0., 0., 0., 0., 0., 0., 0.]],\n",
       "\n",
       "       [[0., 0., 0., 0., 0., 0., 0., 0., 0., 0.],\n",
       "        [0., 0., 0., 0., 0., 0., 0., 0., 0., 0.]],\n",
       "\n",
       "       [[0., 0., 0., 0., 0., 0., 0., 0., 0., 0.],\n",
       "        [0., 0., 0., 0., 0., 0., 0., 0., 0., 0.]]])"
      ]
     },
     "execution_count": 21,
     "metadata": {},
     "output_type": "execute_result"
    }
   ],
   "source": [
    "# zero -----> np.zeros((r,c)) array with the specified dimensions and data is filled with zeros.\n",
    "array1D = np.zeros((1,))\n",
    "array2D = np.zeros((5,2))\n",
    "array3D = np.zeros((5,2,10))\n",
    "array1D\n",
    "array2D\n",
    "array3D"
   ]
  },
  {
   "cell_type": "code",
   "execution_count": 22,
   "id": "54b41211",
   "metadata": {},
   "outputs": [
    {
     "data": {
      "text/plain": [
       "array([1.])"
      ]
     },
     "execution_count": 22,
     "metadata": {},
     "output_type": "execute_result"
    },
    {
     "data": {
      "text/plain": [
       "array([[1., 1.],\n",
       "       [1., 1.],\n",
       "       [1., 1.],\n",
       "       [1., 1.],\n",
       "       [1., 1.]])"
      ]
     },
     "execution_count": 22,
     "metadata": {},
     "output_type": "execute_result"
    },
    {
     "data": {
      "text/plain": [
       "array([[[1., 1., 1., 1., 1., 1., 1., 1., 1., 1.],\n",
       "        [1., 1., 1., 1., 1., 1., 1., 1., 1., 1.]],\n",
       "\n",
       "       [[1., 1., 1., 1., 1., 1., 1., 1., 1., 1.],\n",
       "        [1., 1., 1., 1., 1., 1., 1., 1., 1., 1.]],\n",
       "\n",
       "       [[1., 1., 1., 1., 1., 1., 1., 1., 1., 1.],\n",
       "        [1., 1., 1., 1., 1., 1., 1., 1., 1., 1.]],\n",
       "\n",
       "       [[1., 1., 1., 1., 1., 1., 1., 1., 1., 1.],\n",
       "        [1., 1., 1., 1., 1., 1., 1., 1., 1., 1.]],\n",
       "\n",
       "       [[1., 1., 1., 1., 1., 1., 1., 1., 1., 1.],\n",
       "        [1., 1., 1., 1., 1., 1., 1., 1., 1., 1.]]])"
      ]
     },
     "execution_count": 22,
     "metadata": {},
     "output_type": "execute_result"
    }
   ],
   "source": [
    "# ones -----> np.ones((r,c)) array with the specified dimensions and data is filled with ones.\n",
    "array1D = np.ones((1,))\n",
    "array2D = np.ones((5,2))\n",
    "array3D = np.ones((5,2,10))\n",
    "array1D\n",
    "array2D\n",
    "array3D"
   ]
  },
  {
   "cell_type": "code",
   "execution_count": 23,
   "id": "310353d7",
   "metadata": {},
   "outputs": [
    {
     "data": {
      "text/plain": [
       "array(['1d'], dtype='<U2')"
      ]
     },
     "execution_count": 23,
     "metadata": {},
     "output_type": "execute_result"
    },
    {
     "data": {
      "text/plain": [
       "array([['2d', '2d'],\n",
       "       ['2d', '2d'],\n",
       "       ['2d', '2d'],\n",
       "       ['2d', '2d'],\n",
       "       ['2d', '2d']], dtype='<U2')"
      ]
     },
     "execution_count": 23,
     "metadata": {},
     "output_type": "execute_result"
    },
    {
     "data": {
      "text/plain": [
       "array([[['3d', '3d', '3d', '3d', '3d', '3d', '3d', '3d', '3d', '3d'],\n",
       "        ['3d', '3d', '3d', '3d', '3d', '3d', '3d', '3d', '3d', '3d']],\n",
       "\n",
       "       [['3d', '3d', '3d', '3d', '3d', '3d', '3d', '3d', '3d', '3d'],\n",
       "        ['3d', '3d', '3d', '3d', '3d', '3d', '3d', '3d', '3d', '3d']],\n",
       "\n",
       "       [['3d', '3d', '3d', '3d', '3d', '3d', '3d', '3d', '3d', '3d'],\n",
       "        ['3d', '3d', '3d', '3d', '3d', '3d', '3d', '3d', '3d', '3d']],\n",
       "\n",
       "       [['3d', '3d', '3d', '3d', '3d', '3d', '3d', '3d', '3d', '3d'],\n",
       "        ['3d', '3d', '3d', '3d', '3d', '3d', '3d', '3d', '3d', '3d']],\n",
       "\n",
       "       [['3d', '3d', '3d', '3d', '3d', '3d', '3d', '3d', '3d', '3d'],\n",
       "        ['3d', '3d', '3d', '3d', '3d', '3d', '3d', '3d', '3d', '3d']]],\n",
       "      dtype='<U2')"
      ]
     },
     "execution_count": 23,
     "metadata": {},
     "output_type": "execute_result"
    }
   ],
   "source": [
    "# full -----> np.full((r,c),n) array with the specified dimensions and data is filled with n(num/str).\n",
    "array1D = np.full((1,),'1d')\n",
    "array2D = np.full((5,2),'2d')\n",
    "array3D = np.full((5,2,10),'3d')\n",
    "array1D\n",
    "array2D\n",
    "array3D"
   ]
  },
  {
   "cell_type": "code",
   "execution_count": 24,
   "id": "c0f8d516",
   "metadata": {},
   "outputs": [
    {
     "data": {
      "text/plain": [
       "array([[1, 0, 0, 0, 0, 0, 0, 0, 0, 0],\n",
       "       [0, 1, 0, 0, 0, 0, 0, 0, 0, 0],\n",
       "       [0, 0, 1, 0, 0, 0, 0, 0, 0, 0],\n",
       "       [0, 0, 0, 1, 0, 0, 0, 0, 0, 0],\n",
       "       [0, 0, 0, 0, 1, 0, 0, 0, 0, 0],\n",
       "       [0, 0, 0, 0, 0, 1, 0, 0, 0, 0],\n",
       "       [0, 0, 0, 0, 0, 0, 1, 0, 0, 0],\n",
       "       [0, 0, 0, 0, 0, 0, 0, 1, 0, 0],\n",
       "       [0, 0, 0, 0, 0, 0, 0, 0, 1, 0],\n",
       "       [0, 0, 0, 0, 0, 0, 0, 0, 0, 1]])"
      ]
     },
     "execution_count": 24,
     "metadata": {},
     "output_type": "execute_result"
    }
   ],
   "source": [
    "# eye -----> array where all elements are equal to zero,\n",
    "# except for the k-th diagonal, whose values are equal to one.\n",
    "# This function creates the identity array\n",
    "array2D = np.eye(10 , dtype = 'int32')\n",
    "array2D"
   ]
  },
  {
   "cell_type": "code",
   "execution_count": 25,
   "id": "69ff9eaf",
   "metadata": {},
   "outputs": [
    {
     "data": {
      "text/plain": [
       "array([[1, 0, 0, 0, 0, 0, 0, 0, 0, 0],\n",
       "       [0, 1, 0, 0, 0, 0, 0, 0, 0, 0],\n",
       "       [0, 0, 1, 0, 0, 0, 0, 0, 0, 0],\n",
       "       [0, 0, 0, 1, 0, 0, 0, 0, 0, 0],\n",
       "       [0, 0, 0, 0, 1, 0, 0, 0, 0, 0],\n",
       "       [0, 0, 0, 0, 0, 1, 0, 0, 0, 0],\n",
       "       [0, 0, 0, 0, 0, 0, 1, 0, 0, 0],\n",
       "       [0, 0, 0, 0, 0, 0, 0, 1, 0, 0],\n",
       "       [0, 0, 0, 0, 0, 0, 0, 0, 1, 0],\n",
       "       [0, 0, 0, 0, 0, 0, 0, 0, 0, 1]])"
      ]
     },
     "execution_count": 25,
     "metadata": {},
     "output_type": "execute_result"
    }
   ],
   "source": [
    "# identity -----> generates square array with ones on the main diagonal \n",
    "array2D = np.identity(10 , dtype = 'int32')\n",
    "array2D"
   ]
  },
  {
   "cell_type": "code",
   "execution_count": 26,
   "id": "7bff6f31",
   "metadata": {},
   "outputs": [
    {
     "data": {
      "text/plain": [
       "array([[ 5,  0,  0,  0,  0,  0,  0,  0,  0,  0,  0,  0,  0,  0,  0],\n",
       "       [ 0,  6,  0,  0,  0,  0,  0,  0,  0,  0,  0,  0,  0,  0,  0],\n",
       "       [ 0,  0,  7,  0,  0,  0,  0,  0,  0,  0,  0,  0,  0,  0,  0],\n",
       "       [ 0,  0,  0,  8,  0,  0,  0,  0,  0,  0,  0,  0,  0,  0,  0],\n",
       "       [ 0,  0,  0,  0,  9,  0,  0,  0,  0,  0,  0,  0,  0,  0,  0],\n",
       "       [ 0,  0,  0,  0,  0, 10,  0,  0,  0,  0,  0,  0,  0,  0,  0],\n",
       "       [ 0,  0,  0,  0,  0,  0, 11,  0,  0,  0,  0,  0,  0,  0,  0],\n",
       "       [ 0,  0,  0,  0,  0,  0,  0, 12,  0,  0,  0,  0,  0,  0,  0],\n",
       "       [ 0,  0,  0,  0,  0,  0,  0,  0, 13,  0,  0,  0,  0,  0,  0],\n",
       "       [ 0,  0,  0,  0,  0,  0,  0,  0,  0, 14,  0,  0,  0,  0,  0],\n",
       "       [ 0,  0,  0,  0,  0,  0,  0,  0,  0,  0, 15,  0,  0,  0,  0],\n",
       "       [ 0,  0,  0,  0,  0,  0,  0,  0,  0,  0,  0, 16,  0,  0,  0],\n",
       "       [ 0,  0,  0,  0,  0,  0,  0,  0,  0,  0,  0,  0, 17,  0,  0],\n",
       "       [ 0,  0,  0,  0,  0,  0,  0,  0,  0,  0,  0,  0,  0, 18,  0],\n",
       "       [ 0,  0,  0,  0,  0,  0,  0,  0,  0,  0,  0,  0,  0,  0, 19]])"
      ]
     },
     "execution_count": 26,
     "metadata": {},
     "output_type": "execute_result"
    }
   ],
   "source": [
    "# diag() -----> function extract or construct diagonal array.\n",
    "array2D = np.diag (np.arange(5,20))\n",
    "array2D"
   ]
  },
  {
   "cell_type": "markdown",
   "id": "65657b40",
   "metadata": {},
   "source": [
    "### Indexing and Slicing"
   ]
  },
  {
   "cell_type": "code",
   "execution_count": 27,
   "id": "53f66951",
   "metadata": {},
   "outputs": [
    {
     "data": {
      "text/plain": [
       "array([50, 51, 52, 53, 54, 55, 56, 57, 58, 59, 60, 61, 62, 63, 64, 65, 66,\n",
       "       67, 68, 69, 70, 71, 72, 73, 74, 75, 76, 77, 78, 79, 80, 81, 82, 83,\n",
       "       84, 85, 86, 87, 88, 89, 90, 91, 92, 93, 94, 95, 96, 97, 98, 99])"
      ]
     },
     "execution_count": 27,
     "metadata": {},
     "output_type": "execute_result"
    },
    {
     "data": {
      "text/plain": [
       "array([[50, 51, 52, 53, 54, 55, 56, 57, 58, 59, 60, 61, 62, 63, 64, 65,\n",
       "        66, 67, 68, 69, 70, 71, 72, 73, 74],\n",
       "       [75, 76, 77, 78, 79, 80, 81, 82, 83, 84, 85, 86, 87, 88, 89, 90,\n",
       "        91, 92, 93, 94, 95, 96, 97, 98, 99]])"
      ]
     },
     "execution_count": 27,
     "metadata": {},
     "output_type": "execute_result"
    },
    {
     "data": {
      "text/plain": [
       "array([[[50, 51, 52, 53, 54],\n",
       "        [55, 56, 57, 58, 59]],\n",
       "\n",
       "       [[60, 61, 62, 63, 64],\n",
       "        [65, 66, 67, 68, 69]],\n",
       "\n",
       "       [[70, 71, 72, 73, 74],\n",
       "        [75, 76, 77, 78, 79]],\n",
       "\n",
       "       [[80, 81, 82, 83, 84],\n",
       "        [85, 86, 87, 88, 89]],\n",
       "\n",
       "       [[90, 91, 92, 93, 94],\n",
       "        [95, 96, 97, 98, 99]]])"
      ]
     },
     "execution_count": 27,
     "metadata": {},
     "output_type": "execute_result"
    }
   ],
   "source": [
    "array1D = np.array (range(50,100))\n",
    "array2D = np.arange(50,100).reshape(2,25)\n",
    "array3D = np.arange(50,100).reshape(5,2,5)\n",
    "array1D\n",
    "array2D\n",
    "array3D"
   ]
  },
  {
   "cell_type": "code",
   "execution_count": 28,
   "id": "0e35ee45",
   "metadata": {},
   "outputs": [
    {
     "data": {
      "text/plain": [
       "array([50, 51, 52, 53, 54, 55, 56, 57, 58, 59, 60, 61, 62, 63, 64, 65, 66,\n",
       "       67, 68, 69, 70, 71, 72, 73, 74, 75, 76, 77, 78, 79, 80, 81, 82, 83,\n",
       "       84, 85, 86, 87, 88, 89, 90, 91, 92, 93, 94, 95, 96, 97, 98, 99])"
      ]
     },
     "execution_count": 28,
     "metadata": {},
     "output_type": "execute_result"
    },
    {
     "data": {
      "text/plain": [
       "50"
      ]
     },
     "execution_count": 28,
     "metadata": {},
     "output_type": "execute_result"
    },
    {
     "data": {
      "text/plain": [
       "99"
      ]
     },
     "execution_count": 28,
     "metadata": {},
     "output_type": "execute_result"
    },
    {
     "data": {
      "text/plain": [
       "array([50, 55, 60, 65, 70, 75, 80, 85, 90, 95])"
      ]
     },
     "execution_count": 28,
     "metadata": {},
     "output_type": "execute_result"
    },
    {
     "data": {
      "text/plain": [
       "array([99, 89, 79, 69, 59])"
      ]
     },
     "execution_count": 28,
     "metadata": {},
     "output_type": "execute_result"
    }
   ],
   "source": [
    "array1D\n",
    "array1D[0]\n",
    "array1D[-1]\n",
    "array1D[::5]\n",
    "array1D[::-10]"
   ]
  },
  {
   "cell_type": "code",
   "execution_count": 29,
   "id": "c44c99f3",
   "metadata": {},
   "outputs": [
    {
     "data": {
      "text/plain": [
       "array([[50, 51, 52, 53, 54, 55, 56, 57, 58, 59, 60, 61, 62, 63, 64, 65,\n",
       "        66, 67, 68, 69, 70, 71, 72, 73, 74],\n",
       "       [75, 76, 77, 78, 79, 80, 81, 82, 83, 84, 85, 86, 87, 88, 89, 90,\n",
       "        91, 92, 93, 94, 95, 96, 97, 98, 99]])"
      ]
     },
     "execution_count": 29,
     "metadata": {},
     "output_type": "execute_result"
    },
    {
     "data": {
      "text/plain": [
       "array([[50, 51, 52, 53, 54, 55, 56, 57, 58, 59, 60, 61, 62, 63, 64, 65,\n",
       "        66, 67, 68, 69, 70, 71, 72, 73, 74],\n",
       "       [75, 76, 77, 78, 79, 80, 81, 82, 83, 84, 85, 86, 87, 88, 89, 90,\n",
       "        91, 92, 93, 94, 95, 96, 97, 98, 99]])"
      ]
     },
     "execution_count": 29,
     "metadata": {},
     "output_type": "execute_result"
    },
    {
     "data": {
      "text/plain": [
       "array([51, 76])"
      ]
     },
     "execution_count": 29,
     "metadata": {},
     "output_type": "execute_result"
    },
    {
     "data": {
      "text/plain": [
       "array([75, 76, 77, 78, 79, 80, 81, 82, 83, 84, 85, 86, 87, 88, 89, 90, 91,\n",
       "       92, 93, 94, 95, 96, 97, 98, 99])"
      ]
     },
     "execution_count": 29,
     "metadata": {},
     "output_type": "execute_result"
    }
   ],
   "source": [
    "array2D\n",
    "array2D[0:2]\n",
    "array2D[0:2 , 1]\n",
    "array2D[0:2][1]"
   ]
  },
  {
   "cell_type": "code",
   "execution_count": 30,
   "id": "ccf32cc1",
   "metadata": {},
   "outputs": [
    {
     "data": {
      "text/plain": [
       "array([[[50, 51, 52, 53, 54],\n",
       "        [55, 56, 57, 58, 59]],\n",
       "\n",
       "       [[60, 61, 62, 63, 64],\n",
       "        [65, 66, 67, 68, 69]],\n",
       "\n",
       "       [[70, 71, 72, 73, 74],\n",
       "        [75, 76, 77, 78, 79]],\n",
       "\n",
       "       [[80, 81, 82, 83, 84],\n",
       "        [85, 86, 87, 88, 89]],\n",
       "\n",
       "       [[90, 91, 92, 93, 94],\n",
       "        [95, 96, 97, 98, 99]]])"
      ]
     },
     "execution_count": 30,
     "metadata": {},
     "output_type": "execute_result"
    },
    {
     "data": {
      "text/plain": [
       "array([[[50, 51, 52, 53, 54],\n",
       "        [55, 56, 57, 58, 59]],\n",
       "\n",
       "       [[60, 61, 62, 63, 64],\n",
       "        [65, 66, 67, 68, 69]]])"
      ]
     },
     "execution_count": 30,
     "metadata": {},
     "output_type": "execute_result"
    },
    {
     "data": {
      "text/plain": [
       "array([[55, 56, 57, 58, 59],\n",
       "       [65, 66, 67, 68, 69]])"
      ]
     },
     "execution_count": 30,
     "metadata": {},
     "output_type": "execute_result"
    },
    {
     "data": {
      "text/plain": [
       "array([[60, 61, 62, 63, 64],\n",
       "       [65, 66, 67, 68, 69]])"
      ]
     },
     "execution_count": 30,
     "metadata": {},
     "output_type": "execute_result"
    }
   ],
   "source": [
    "array3D\n",
    "array3D[0:2]\n",
    "array3D[0:2 , 1]\n",
    "array3D[0:2][1]"
   ]
  },
  {
   "cell_type": "code",
   "execution_count": 31,
   "id": "224c0a27",
   "metadata": {},
   "outputs": [
    {
     "data": {
      "text/plain": [
       "array([[74, 73, 72, 71, 70, 69, 68, 67, 66, 65, 64, 63, 62, 61, 60, 59,\n",
       "        58, 57, 56, 55, 54, 53, 52, 51, 50],\n",
       "       [99, 98, 97, 96, 95, 94, 93, 92, 91, 90, 89, 88, 87, 86, 85, 84,\n",
       "        83, 82, 81, 80, 79, 78, 77, 76, 75]])"
      ]
     },
     "execution_count": 31,
     "metadata": {},
     "output_type": "execute_result"
    },
    {
     "data": {
      "text/plain": [
       "array([[[55, 56, 57, 58, 59],\n",
       "        [50, 51, 52, 53, 54]],\n",
       "\n",
       "       [[65, 66, 67, 68, 69],\n",
       "        [60, 61, 62, 63, 64]],\n",
       "\n",
       "       [[75, 76, 77, 78, 79],\n",
       "        [70, 71, 72, 73, 74]],\n",
       "\n",
       "       [[85, 86, 87, 88, 89],\n",
       "        [80, 81, 82, 83, 84]],\n",
       "\n",
       "       [[95, 96, 97, 98, 99],\n",
       "        [90, 91, 92, 93, 94]]])"
      ]
     },
     "execution_count": 31,
     "metadata": {},
     "output_type": "execute_result"
    }
   ],
   "source": [
    "#fliplr -----> flipping in left-right direction\n",
    "array2D = np.arange(50,100).reshape(2,25)\n",
    "array3D = np.arange(50,100).reshape(5,2,5)\n",
    "np.fliplr(array2D)\n",
    "np.fliplr(array3D)"
   ]
  },
  {
   "cell_type": "code",
   "execution_count": 32,
   "id": "5017bed3",
   "metadata": {},
   "outputs": [
    {
     "data": {
      "text/plain": [
       "array([[75, 76, 77, 78, 79, 80, 81, 82, 83, 84, 85, 86, 87, 88, 89, 90,\n",
       "        91, 92, 93, 94, 95, 96, 97, 98, 99],\n",
       "       [50, 51, 52, 53, 54, 55, 56, 57, 58, 59, 60, 61, 62, 63, 64, 65,\n",
       "        66, 67, 68, 69, 70, 71, 72, 73, 74]])"
      ]
     },
     "execution_count": 32,
     "metadata": {},
     "output_type": "execute_result"
    },
    {
     "data": {
      "text/plain": [
       "array([[[90, 91, 92, 93, 94],\n",
       "        [95, 96, 97, 98, 99]],\n",
       "\n",
       "       [[80, 81, 82, 83, 84],\n",
       "        [85, 86, 87, 88, 89]],\n",
       "\n",
       "       [[70, 71, 72, 73, 74],\n",
       "        [75, 76, 77, 78, 79]],\n",
       "\n",
       "       [[60, 61, 62, 63, 64],\n",
       "        [65, 66, 67, 68, 69]],\n",
       "\n",
       "       [[50, 51, 52, 53, 54],\n",
       "        [55, 56, 57, 58, 59]]])"
      ]
     },
     "execution_count": 32,
     "metadata": {},
     "output_type": "execute_result"
    }
   ],
   "source": [
    "# flipud -----> flipping in up-down direction\n",
    "array2D = np.arange(50,100).reshape(2,25)\n",
    "array3D = np.arange(50,100).reshape(5,2,5)\n",
    "np.flipud(array2D)\n",
    "np.flipud(array3D)"
   ]
  },
  {
   "cell_type": "code",
   "execution_count": 33,
   "id": "7b28c674",
   "metadata": {},
   "outputs": [
    {
     "data": {
      "text/plain": [
       "array([[99, 98, 97, 96, 95, 94, 93, 92, 91, 90, 89, 88, 87, 86, 85, 84,\n",
       "        83, 82, 81, 80, 79, 78, 77, 76, 75],\n",
       "       [74, 73, 72, 71, 70, 69, 68, 67, 66, 65, 64, 63, 62, 61, 60, 59,\n",
       "        58, 57, 56, 55, 54, 53, 52, 51, 50]])"
      ]
     },
     "execution_count": 33,
     "metadata": {},
     "output_type": "execute_result"
    },
    {
     "data": {
      "text/plain": [
       "array([[[99, 98, 97, 96, 95],\n",
       "        [94, 93, 92, 91, 90]],\n",
       "\n",
       "       [[89, 88, 87, 86, 85],\n",
       "        [84, 83, 82, 81, 80]],\n",
       "\n",
       "       [[79, 78, 77, 76, 75],\n",
       "        [74, 73, 72, 71, 70]],\n",
       "\n",
       "       [[69, 68, 67, 66, 65],\n",
       "        [64, 63, 62, 61, 60]],\n",
       "\n",
       "       [[59, 58, 57, 56, 55],\n",
       "        [54, 53, 52, 51, 50]]])"
      ]
     },
     "execution_count": 33,
     "metadata": {},
     "output_type": "execute_result"
    }
   ],
   "source": [
    "#flip -----> flipping in reverse direction\n",
    "array2D = np.arange(50,100).reshape(2,25)\n",
    "array3D = np.arange(50,100).reshape(5,2,5)\n",
    "np.flip(array2D)\n",
    "np.flip(array3D)"
   ]
  },
  {
   "cell_type": "code",
   "execution_count": 34,
   "id": "f843bb91",
   "metadata": {},
   "outputs": [
    {
     "data": {
      "text/plain": [
       "array([[74, 73, 72, 71, 70, 69, 68, 67, 66, 65, 64, 63, 62, 61, 60, 59,\n",
       "        58, 57, 56, 55, 54, 53, 52, 51, 50],\n",
       "       [99, 98, 97, 96, 95, 94, 93, 92, 91, 90, 89, 88, 87, 86, 85, 84,\n",
       "        83, 82, 81, 80, 79, 78, 77, 76, 75]])"
      ]
     },
     "execution_count": 34,
     "metadata": {},
     "output_type": "execute_result"
    },
    {
     "data": {
      "text/plain": [
       "array([[[55, 56, 57, 58, 59],\n",
       "        [50, 51, 52, 53, 54]],\n",
       "\n",
       "       [[65, 66, 67, 68, 69],\n",
       "        [60, 61, 62, 63, 64]],\n",
       "\n",
       "       [[75, 76, 77, 78, 79],\n",
       "        [70, 71, 72, 73, 74]],\n",
       "\n",
       "       [[85, 86, 87, 88, 89],\n",
       "        [80, 81, 82, 83, 84]],\n",
       "\n",
       "       [[95, 96, 97, 98, 99],\n",
       "        [90, 91, 92, 93, 94]]])"
      ]
     },
     "execution_count": 34,
     "metadata": {},
     "output_type": "execute_result"
    }
   ],
   "source": [
    "#flip -----> flipping in axis=1 direction\n",
    "array2D = np.arange(50,100).reshape(2,25)\n",
    "array3D = np.arange(50,100).reshape(5,2,5)\n",
    "np.flip(array2D , axis = 1)\n",
    "np.flip(array3D , axis = 1)"
   ]
  },
  {
   "cell_type": "code",
   "execution_count": 35,
   "id": "9b162df3",
   "metadata": {},
   "outputs": [
    {
     "data": {
      "text/plain": [
       "array([[75, 76, 77, 78, 79, 80, 81, 82, 83, 84, 85, 86, 87, 88, 89, 90,\n",
       "        91, 92, 93, 94, 95, 96, 97, 98, 99],\n",
       "       [50, 51, 52, 53, 54, 55, 56, 57, 58, 59, 60, 61, 62, 63, 64, 65,\n",
       "        66, 67, 68, 69, 70, 71, 72, 73, 74]])"
      ]
     },
     "execution_count": 35,
     "metadata": {},
     "output_type": "execute_result"
    },
    {
     "data": {
      "text/plain": [
       "array([[[90, 91, 92, 93, 94],\n",
       "        [95, 96, 97, 98, 99]],\n",
       "\n",
       "       [[80, 81, 82, 83, 84],\n",
       "        [85, 86, 87, 88, 89]],\n",
       "\n",
       "       [[70, 71, 72, 73, 74],\n",
       "        [75, 76, 77, 78, 79]],\n",
       "\n",
       "       [[60, 61, 62, 63, 64],\n",
       "        [65, 66, 67, 68, 69]],\n",
       "\n",
       "       [[50, 51, 52, 53, 54],\n",
       "        [55, 56, 57, 58, 59]]])"
      ]
     },
     "execution_count": 35,
     "metadata": {},
     "output_type": "execute_result"
    }
   ],
   "source": [
    "#flip -----> flipping in axis=0 direction\n",
    "array2D = np.arange(50,100).reshape(2,25)\n",
    "array3D = np.arange(50,100).reshape(5,2,5)\n",
    "np.flip(array2D , axis = 0)\n",
    "np.flip(array3D , axis = 0)"
   ]
  },
  {
   "cell_type": "code",
   "execution_count": 36,
   "id": "3583b1d2",
   "metadata": {},
   "outputs": [
    {
     "data": {
      "text/plain": [
       "array([50, 51, 52, 53, 54, 55, 56, 57, 58, 59, 60, 61, 62, 63, 64, 65, 66,\n",
       "       67, 68, 69, 70, 71, 72, 73, 74, 75, 76, 77, 78, 79, 80, 81, 82, 83,\n",
       "       84, 85, 86, 87, 88, 89, 90, 91, 92, 93, 94, 95, 96, 97, 98, 99])"
      ]
     },
     "execution_count": 36,
     "metadata": {},
     "output_type": "execute_result"
    },
    {
     "data": {
      "text/plain": [
       "array([[50, 75],\n",
       "       [51, 76],\n",
       "       [52, 77],\n",
       "       [53, 78],\n",
       "       [54, 79],\n",
       "       [55, 80],\n",
       "       [56, 81],\n",
       "       [57, 82],\n",
       "       [58, 83],\n",
       "       [59, 84],\n",
       "       [60, 85],\n",
       "       [61, 86],\n",
       "       [62, 87],\n",
       "       [63, 88],\n",
       "       [64, 89],\n",
       "       [65, 90],\n",
       "       [66, 91],\n",
       "       [67, 92],\n",
       "       [68, 93],\n",
       "       [69, 94],\n",
       "       [70, 95],\n",
       "       [71, 96],\n",
       "       [72, 97],\n",
       "       [73, 98],\n",
       "       [74, 99]])"
      ]
     },
     "execution_count": 36,
     "metadata": {},
     "output_type": "execute_result"
    },
    {
     "data": {
      "text/plain": [
       "array([[[50, 60, 70, 80, 90],\n",
       "        [55, 65, 75, 85, 95]],\n",
       "\n",
       "       [[51, 61, 71, 81, 91],\n",
       "        [56, 66, 76, 86, 96]],\n",
       "\n",
       "       [[52, 62, 72, 82, 92],\n",
       "        [57, 67, 77, 87, 97]],\n",
       "\n",
       "       [[53, 63, 73, 83, 93],\n",
       "        [58, 68, 78, 88, 98]],\n",
       "\n",
       "       [[54, 64, 74, 84, 94],\n",
       "        [59, 69, 79, 89, 99]]])"
      ]
     },
     "execution_count": 36,
     "metadata": {},
     "output_type": "execute_result"
    },
    {
     "data": {
      "text/plain": [
       "array([50, 51, 52, 53, 54, 55, 56, 57, 58, 59, 60, 61, 62, 63, 64, 65, 66,\n",
       "       67, 68, 69, 70, 71, 72, 73, 74, 75, 76, 77, 78, 79, 80, 81, 82, 83,\n",
       "       84, 85, 86, 87, 88, 89, 90, 91, 92, 93, 94, 95, 96, 97, 98, 99])"
      ]
     },
     "execution_count": 36,
     "metadata": {},
     "output_type": "execute_result"
    },
    {
     "data": {
      "text/plain": [
       "array([[50, 75],\n",
       "       [51, 76],\n",
       "       [52, 77],\n",
       "       [53, 78],\n",
       "       [54, 79],\n",
       "       [55, 80],\n",
       "       [56, 81],\n",
       "       [57, 82],\n",
       "       [58, 83],\n",
       "       [59, 84],\n",
       "       [60, 85],\n",
       "       [61, 86],\n",
       "       [62, 87],\n",
       "       [63, 88],\n",
       "       [64, 89],\n",
       "       [65, 90],\n",
       "       [66, 91],\n",
       "       [67, 92],\n",
       "       [68, 93],\n",
       "       [69, 94],\n",
       "       [70, 95],\n",
       "       [71, 96],\n",
       "       [72, 97],\n",
       "       [73, 98],\n",
       "       [74, 99]])"
      ]
     },
     "execution_count": 36,
     "metadata": {},
     "output_type": "execute_result"
    },
    {
     "data": {
      "text/plain": [
       "array([[[50, 60, 70, 80, 90],\n",
       "        [55, 65, 75, 85, 95]],\n",
       "\n",
       "       [[51, 61, 71, 81, 91],\n",
       "        [56, 66, 76, 86, 96]],\n",
       "\n",
       "       [[52, 62, 72, 82, 92],\n",
       "        [57, 67, 77, 87, 97]],\n",
       "\n",
       "       [[53, 63, 73, 83, 93],\n",
       "        [58, 68, 78, 88, 98]],\n",
       "\n",
       "       [[54, 64, 74, 84, 94],\n",
       "        [59, 69, 79, 89, 99]]])"
      ]
     },
     "execution_count": 36,
     "metadata": {},
     "output_type": "execute_result"
    }
   ],
   "source": [
    "# transpose -----> changing rows into columns and vice-versa\n",
    "array1D = np.array (range(50,100))\n",
    "array2D = np.arange(50,100).reshape(2,25)\n",
    "array3D = np.arange(50,100).reshape(5,2,5)\n",
    "array1D.T\n",
    "array2D.T\n",
    "array3D.T\n",
    "np.transpose(array1D)\n",
    "np.transpose(array2D)\n",
    "np.transpose(array3D)"
   ]
  },
  {
   "cell_type": "code",
   "execution_count": 37,
   "id": "1933725f",
   "metadata": {},
   "outputs": [
    {
     "data": {
      "text/plain": [
       "array([[74, 99],\n",
       "       [73, 98],\n",
       "       [72, 97],\n",
       "       [71, 96],\n",
       "       [70, 95],\n",
       "       [69, 94],\n",
       "       [68, 93],\n",
       "       [67, 92],\n",
       "       [66, 91],\n",
       "       [65, 90],\n",
       "       [64, 89],\n",
       "       [63, 88],\n",
       "       [62, 87],\n",
       "       [61, 86],\n",
       "       [60, 85],\n",
       "       [59, 84],\n",
       "       [58, 83],\n",
       "       [57, 82],\n",
       "       [56, 81],\n",
       "       [55, 80],\n",
       "       [54, 79],\n",
       "       [53, 78],\n",
       "       [52, 77],\n",
       "       [51, 76],\n",
       "       [50, 75]])"
      ]
     },
     "execution_count": 37,
     "metadata": {},
     "output_type": "execute_result"
    },
    {
     "data": {
      "text/plain": [
       "array([[[55, 56, 57, 58, 59],\n",
       "        [65, 66, 67, 68, 69],\n",
       "        [75, 76, 77, 78, 79],\n",
       "        [85, 86, 87, 88, 89],\n",
       "        [95, 96, 97, 98, 99]],\n",
       "\n",
       "       [[50, 51, 52, 53, 54],\n",
       "        [60, 61, 62, 63, 64],\n",
       "        [70, 71, 72, 73, 74],\n",
       "        [80, 81, 82, 83, 84],\n",
       "        [90, 91, 92, 93, 94]]])"
      ]
     },
     "execution_count": 37,
     "metadata": {},
     "output_type": "execute_result"
    },
    {
     "data": {
      "text/plain": [
       "array([[74, 99],\n",
       "       [73, 98],\n",
       "       [72, 97],\n",
       "       [71, 96],\n",
       "       [70, 95],\n",
       "       [69, 94],\n",
       "       [68, 93],\n",
       "       [67, 92],\n",
       "       [66, 91],\n",
       "       [65, 90],\n",
       "       [64, 89],\n",
       "       [63, 88],\n",
       "       [62, 87],\n",
       "       [61, 86],\n",
       "       [60, 85],\n",
       "       [59, 84],\n",
       "       [58, 83],\n",
       "       [57, 82],\n",
       "       [56, 81],\n",
       "       [55, 80],\n",
       "       [54, 79],\n",
       "       [53, 78],\n",
       "       [52, 77],\n",
       "       [51, 76],\n",
       "       [50, 75]])"
      ]
     },
     "execution_count": 37,
     "metadata": {},
     "output_type": "execute_result"
    },
    {
     "data": {
      "text/plain": [
       "array([[[54, 64, 74, 84, 94],\n",
       "        [59, 69, 79, 89, 99]],\n",
       "\n",
       "       [[53, 63, 73, 83, 93],\n",
       "        [58, 68, 78, 88, 98]],\n",
       "\n",
       "       [[52, 62, 72, 82, 92],\n",
       "        [57, 67, 77, 87, 97]],\n",
       "\n",
       "       [[51, 61, 71, 81, 91],\n",
       "        [56, 66, 76, 86, 96]],\n",
       "\n",
       "       [[50, 60, 70, 80, 90],\n",
       "        [55, 65, 75, 85, 95]]])"
      ]
     },
     "execution_count": 37,
     "metadata": {},
     "output_type": "execute_result"
    }
   ],
   "source": [
    "# rot90 -----> changing rows into columns in anti-clockwise direction of 90's\n",
    "array2D = np.arange(50,100).reshape(2,25)\n",
    "array3D = np.arange(50,100).reshape(5,2,5)\n",
    "np.rot90(array2D)\n",
    "np.rot90(array3D)\n",
    "np.flipud(np.transpose(array2D))\n",
    "np.flipud(np.transpose(array3D))"
   ]
  },
  {
   "cell_type": "markdown",
   "id": "35b4c52a",
   "metadata": {},
   "source": [
    "### STATISTICAL FUNCTIONS"
   ]
  },
  {
   "cell_type": "code",
   "execution_count": 38,
   "id": "f6a90b9b",
   "metadata": {},
   "outputs": [
    {
     "data": {
      "text/plain": [
       "99"
      ]
     },
     "execution_count": 38,
     "metadata": {},
     "output_type": "execute_result"
    },
    {
     "data": {
      "text/plain": [
       "99"
      ]
     },
     "execution_count": 38,
     "metadata": {},
     "output_type": "execute_result"
    },
    {
     "data": {
      "text/plain": [
       "99"
      ]
     },
     "execution_count": 38,
     "metadata": {},
     "output_type": "execute_result"
    }
   ],
   "source": [
    "# max -----> maximum in array\n",
    "array1D = np.array (range(50,100))\n",
    "array2D = np.arange(50,100).reshape(2,25)\n",
    "array3D = np.arange(50,100).reshape(5,2,5)\n",
    "array1D.max()\n",
    "array2D.max()\n",
    "array3D.max()"
   ]
  },
  {
   "cell_type": "code",
   "execution_count": 39,
   "id": "b427d05f",
   "metadata": {},
   "outputs": [
    {
     "data": {
      "text/plain": [
       "99"
      ]
     },
     "execution_count": 39,
     "metadata": {},
     "output_type": "execute_result"
    },
    {
     "data": {
      "text/plain": [
       "array([74, 99])"
      ]
     },
     "execution_count": 39,
     "metadata": {},
     "output_type": "execute_result"
    },
    {
     "data": {
      "text/plain": [
       "array([[55, 56, 57, 58, 59],\n",
       "       [65, 66, 67, 68, 69],\n",
       "       [75, 76, 77, 78, 79],\n",
       "       [85, 86, 87, 88, 89],\n",
       "       [95, 96, 97, 98, 99]])"
      ]
     },
     "execution_count": 39,
     "metadata": {},
     "output_type": "execute_result"
    }
   ],
   "source": [
    "# max -----> maximum in array via axis = 1\n",
    "array1D = np.array (range(50,100))\n",
    "array2D = np.arange(50,100).reshape(2,25)\n",
    "array3D = np.arange(50,100).reshape(5,2,5)\n",
    "array1D.max()\n",
    "array2D.max(axis = 1)\n",
    "array3D.max(axis = 1)"
   ]
  },
  {
   "cell_type": "code",
   "execution_count": 40,
   "id": "bdc0d54d",
   "metadata": {},
   "outputs": [
    {
     "data": {
      "text/plain": [
       "99"
      ]
     },
     "execution_count": 40,
     "metadata": {},
     "output_type": "execute_result"
    },
    {
     "data": {
      "text/plain": [
       "array([75, 76, 77, 78, 79, 80, 81, 82, 83, 84, 85, 86, 87, 88, 89, 90, 91,\n",
       "       92, 93, 94, 95, 96, 97, 98, 99])"
      ]
     },
     "execution_count": 40,
     "metadata": {},
     "output_type": "execute_result"
    },
    {
     "data": {
      "text/plain": [
       "array([[90, 91, 92, 93, 94],\n",
       "       [95, 96, 97, 98, 99]])"
      ]
     },
     "execution_count": 40,
     "metadata": {},
     "output_type": "execute_result"
    }
   ],
   "source": [
    "# max -----> maximum in array via axis = 0\n",
    "array1D = np.array (range(50,100))\n",
    "array2D = np.arange(50,100).reshape(2,25)\n",
    "array3D = np.arange(50,100).reshape(5,2,5)\n",
    "array1D.max()\n",
    "array2D.max(axis = 0)\n",
    "array3D.max(axis = 0)"
   ]
  },
  {
   "cell_type": "code",
   "execution_count": 41,
   "id": "856c2452",
   "metadata": {},
   "outputs": [
    {
     "data": {
      "text/plain": [
       "50"
      ]
     },
     "execution_count": 41,
     "metadata": {},
     "output_type": "execute_result"
    },
    {
     "data": {
      "text/plain": [
       "50"
      ]
     },
     "execution_count": 41,
     "metadata": {},
     "output_type": "execute_result"
    },
    {
     "data": {
      "text/plain": [
       "50"
      ]
     },
     "execution_count": 41,
     "metadata": {},
     "output_type": "execute_result"
    }
   ],
   "source": [
    "# min -----> minimum in array\n",
    "array1D = np.array (range(50,100))\n",
    "array2D = np.arange(50,100).reshape(2,25)\n",
    "array3D = np.arange(50,100).reshape(5,2,5)\n",
    "array1D.min()\n",
    "array2D.min()\n",
    "array3D.min()"
   ]
  },
  {
   "cell_type": "code",
   "execution_count": 42,
   "id": "6e6d33ce",
   "metadata": {},
   "outputs": [
    {
     "data": {
      "text/plain": [
       "50"
      ]
     },
     "execution_count": 42,
     "metadata": {},
     "output_type": "execute_result"
    },
    {
     "data": {
      "text/plain": [
       "array([50, 75])"
      ]
     },
     "execution_count": 42,
     "metadata": {},
     "output_type": "execute_result"
    },
    {
     "data": {
      "text/plain": [
       "array([[50, 51, 52, 53, 54],\n",
       "       [60, 61, 62, 63, 64],\n",
       "       [70, 71, 72, 73, 74],\n",
       "       [80, 81, 82, 83, 84],\n",
       "       [90, 91, 92, 93, 94]])"
      ]
     },
     "execution_count": 42,
     "metadata": {},
     "output_type": "execute_result"
    }
   ],
   "source": [
    "# min -----> minimum in array via axis = 1\n",
    "array1D = np.array (range(50,100))\n",
    "array2D = np.arange(50,100).reshape(2,25)\n",
    "array3D = np.arange(50,100).reshape(5,2,5)\n",
    "array1D.min()\n",
    "array2D.min(axis = 1)\n",
    "array3D.min(axis = 1)"
   ]
  },
  {
   "cell_type": "code",
   "execution_count": 43,
   "id": "bc4160c3",
   "metadata": {},
   "outputs": [
    {
     "data": {
      "text/plain": [
       "50"
      ]
     },
     "execution_count": 43,
     "metadata": {},
     "output_type": "execute_result"
    },
    {
     "data": {
      "text/plain": [
       "array([50, 51, 52, 53, 54, 55, 56, 57, 58, 59, 60, 61, 62, 63, 64, 65, 66,\n",
       "       67, 68, 69, 70, 71, 72, 73, 74])"
      ]
     },
     "execution_count": 43,
     "metadata": {},
     "output_type": "execute_result"
    },
    {
     "data": {
      "text/plain": [
       "array([[50, 51, 52, 53, 54],\n",
       "       [55, 56, 57, 58, 59]])"
      ]
     },
     "execution_count": 43,
     "metadata": {},
     "output_type": "execute_result"
    }
   ],
   "source": [
    "# min -----> minimum in array via axis = 0\n",
    "array1D = np.array (range(50,100))\n",
    "array2D = np.arange(50,100).reshape(2,25)\n",
    "array3D = np.arange(50,100).reshape(5,2,5)\n",
    "array1D.min()\n",
    "array2D.min(axis = 0)\n",
    "array3D.min(axis = 0)"
   ]
  },
  {
   "cell_type": "code",
   "execution_count": 44,
   "id": "ad74384d",
   "metadata": {},
   "outputs": [
    {
     "data": {
      "text/plain": [
       "3725"
      ]
     },
     "execution_count": 44,
     "metadata": {},
     "output_type": "execute_result"
    },
    {
     "data": {
      "text/plain": [
       "3725"
      ]
     },
     "execution_count": 44,
     "metadata": {},
     "output_type": "execute_result"
    },
    {
     "data": {
      "text/plain": [
       "3725"
      ]
     },
     "execution_count": 44,
     "metadata": {},
     "output_type": "execute_result"
    }
   ],
   "source": [
    "# sum -----> sum of all elements\n",
    "array1D = np.array (range(50,100))\n",
    "array2D = np.arange(50,100).reshape(2,25)\n",
    "array3D = np.arange(50,100).reshape(5,2,5)\n",
    "array1D.sum()\n",
    "array2D.sum()\n",
    "array3D.sum()"
   ]
  },
  {
   "cell_type": "code",
   "execution_count": 45,
   "id": "0d743936",
   "metadata": {},
   "outputs": [
    {
     "data": {
      "text/plain": [
       "3725"
      ]
     },
     "execution_count": 45,
     "metadata": {},
     "output_type": "execute_result"
    },
    {
     "data": {
      "text/plain": [
       "array([1550, 2175])"
      ]
     },
     "execution_count": 45,
     "metadata": {},
     "output_type": "execute_result"
    },
    {
     "data": {
      "text/plain": [
       "array([[105, 107, 109, 111, 113],\n",
       "       [125, 127, 129, 131, 133],\n",
       "       [145, 147, 149, 151, 153],\n",
       "       [165, 167, 169, 171, 173],\n",
       "       [185, 187, 189, 191, 193]])"
      ]
     },
     "execution_count": 45,
     "metadata": {},
     "output_type": "execute_result"
    }
   ],
   "source": [
    "# sum -----> sum of elements in array via axis = 1\n",
    "array1D = np.array (range(50,100))\n",
    "array2D = np.arange(50,100).reshape(2,25)\n",
    "array3D = np.arange(50,100).reshape(5,2,5)\n",
    "array1D.sum()\n",
    "array2D.sum(axis = 1)\n",
    "array3D.sum(axis = 1)"
   ]
  },
  {
   "cell_type": "code",
   "execution_count": 46,
   "id": "23570080",
   "metadata": {},
   "outputs": [
    {
     "data": {
      "text/plain": [
       "3725"
      ]
     },
     "execution_count": 46,
     "metadata": {},
     "output_type": "execute_result"
    },
    {
     "data": {
      "text/plain": [
       "array([125, 127, 129, 131, 133, 135, 137, 139, 141, 143, 145, 147, 149,\n",
       "       151, 153, 155, 157, 159, 161, 163, 165, 167, 169, 171, 173])"
      ]
     },
     "execution_count": 46,
     "metadata": {},
     "output_type": "execute_result"
    },
    {
     "data": {
      "text/plain": [
       "array([[350, 355, 360, 365, 370],\n",
       "       [375, 380, 385, 390, 395]])"
      ]
     },
     "execution_count": 46,
     "metadata": {},
     "output_type": "execute_result"
    }
   ],
   "source": [
    "# sum -----> sum of elements in array via axis = 0\n",
    "array1D = np.array (range(50,100))\n",
    "array2D = np.arange(50,100).reshape(2,25)\n",
    "array3D = np.arange(50,100).reshape(5,2,5)\n",
    "array1D.sum()\n",
    "array2D.sum(axis = 0)\n",
    "array3D.sum(axis = 0)"
   ]
  },
  {
   "cell_type": "code",
   "execution_count": 47,
   "id": "675d1221",
   "metadata": {},
   "outputs": [
    {
     "data": {
      "text/plain": [
       "74.5"
      ]
     },
     "execution_count": 47,
     "metadata": {},
     "output_type": "execute_result"
    },
    {
     "data": {
      "text/plain": [
       "74.5"
      ]
     },
     "execution_count": 47,
     "metadata": {},
     "output_type": "execute_result"
    },
    {
     "data": {
      "text/plain": [
       "74.5"
      ]
     },
     "execution_count": 47,
     "metadata": {},
     "output_type": "execute_result"
    }
   ],
   "source": [
    "# mean -----> sum of all elements divided by size of elements\n",
    "array1D = np.array (range(50,100))\n",
    "array2D = np.arange(50,100).reshape(2,25)\n",
    "array3D = np.arange(50,100).reshape(5,2,5)\n",
    "array1D.mean()\n",
    "array2D.mean()\n",
    "array3D.mean()"
   ]
  },
  {
   "cell_type": "code",
   "execution_count": 48,
   "id": "df479e59",
   "metadata": {},
   "outputs": [
    {
     "data": {
      "text/plain": [
       "74.5"
      ]
     },
     "execution_count": 48,
     "metadata": {},
     "output_type": "execute_result"
    },
    {
     "data": {
      "text/plain": [
       "74.5"
      ]
     },
     "execution_count": 48,
     "metadata": {},
     "output_type": "execute_result"
    },
    {
     "data": {
      "text/plain": [
       "74.5"
      ]
     },
     "execution_count": 48,
     "metadata": {},
     "output_type": "execute_result"
    }
   ],
   "source": [
    "# median -----> average of the middle elements\n",
    "array1D = np.array (range(50,100))\n",
    "array2D = np.arange(50,100).reshape(2,25)\n",
    "array3D = np.arange(50,100).reshape(5,2,5)\n",
    "np.median(array1D)\n",
    "np.median(array2D)\n",
    "np.median(array3D)"
   ]
  },
  {
   "cell_type": "code",
   "execution_count": 49,
   "id": "f032ebb0",
   "metadata": {},
   "outputs": [
    {
     "data": {
      "text/plain": [
       "208.25"
      ]
     },
     "execution_count": 49,
     "metadata": {},
     "output_type": "execute_result"
    },
    {
     "data": {
      "text/plain": [
       "208.25"
      ]
     },
     "execution_count": 49,
     "metadata": {},
     "output_type": "execute_result"
    },
    {
     "data": {
      "text/plain": [
       "208.25"
      ]
     },
     "execution_count": 49,
     "metadata": {},
     "output_type": "execute_result"
    }
   ],
   "source": [
    "# varience -----> sum of (x-u)**2 divided by n\n",
    "array1D = np.array (range(50,100))\n",
    "array2D = np.arange(50,100).reshape(2,25)\n",
    "array3D = np.arange(50,100).reshape(5,2,5)\n",
    "np.var(array1D)\n",
    "np.var(array2D)\n",
    "np.var(array3D)"
   ]
  },
  {
   "cell_type": "code",
   "execution_count": 50,
   "id": "58315efd",
   "metadata": {},
   "outputs": [
    {
     "data": {
      "text/plain": [
       "14.430869689661812"
      ]
     },
     "execution_count": 50,
     "metadata": {},
     "output_type": "execute_result"
    },
    {
     "data": {
      "text/plain": [
       "14.430869689661812"
      ]
     },
     "execution_count": 50,
     "metadata": {},
     "output_type": "execute_result"
    },
    {
     "data": {
      "text/plain": [
       "14.430869689661812"
      ]
     },
     "execution_count": 50,
     "metadata": {},
     "output_type": "execute_result"
    }
   ],
   "source": [
    "# standard deviation -----> sqrt of (sum of (x-u)**2 divided by n)\n",
    "array1D = np.array (range(50,100))\n",
    "array2D = np.arange(50,100).reshape(2,25)\n",
    "array3D = np.arange(50,100).reshape(5,2,5)\n",
    "np.std(array1D)\n",
    "np.std(array2D)\n",
    "np.std(array3D)"
   ]
  },
  {
   "cell_type": "markdown",
   "id": "727bb373",
   "metadata": {},
   "source": [
    "### STACKING and SPLITTING"
   ]
  },
  {
   "cell_type": "code",
   "execution_count": 51,
   "id": "02f34172",
   "metadata": {},
   "outputs": [
    {
     "data": {
      "text/plain": [
       "array([[ 1,  2,  3],\n",
       "       [ 4,  5,  6],\n",
       "       [ 7,  8,  9],\n",
       "       [11, 12, 13],\n",
       "       [14, 15, 16]])"
      ]
     },
     "execution_count": 51,
     "metadata": {},
     "output_type": "execute_result"
    }
   ],
   "source": [
    "# vstack -----> vertical attachment (columns are equal in 2 arrays)\n",
    "array1 = np.array([[1,2,3],[4,5,6],[7,8,9]])\n",
    "array2 = np.array([[11,12,13],[14,15,16]])\n",
    "np.vstack((array1,array2))"
   ]
  },
  {
   "cell_type": "code",
   "execution_count": 52,
   "id": "93dd6b32",
   "metadata": {},
   "outputs": [
    {
     "data": {
      "text/plain": [
       "array([[ 1,  2,  3, 11, 12, 13],\n",
       "       [ 4,  5,  6, 14, 15, 16],\n",
       "       [ 7,  8,  9, 17, 18, 19]])"
      ]
     },
     "execution_count": 52,
     "metadata": {},
     "output_type": "execute_result"
    }
   ],
   "source": [
    "# hstack -----> horizontal attachment (rows are equal in 2 arrays)\n",
    "array1 = np.array([[1,2,3],[4,5,6],[7,8,9]])\n",
    "array2 = np.array([[11,12,13],[14,15,16],[17,18,19]])\n",
    "np.hstack((array1,array2))"
   ]
  },
  {
   "cell_type": "code",
   "execution_count": 53,
   "id": "99067e41",
   "metadata": {},
   "outputs": [
    {
     "data": {
      "text/plain": [
       "array([[[ 1, 11],\n",
       "        [ 2, 12],\n",
       "        [ 3, 13]]])"
      ]
     },
     "execution_count": 53,
     "metadata": {},
     "output_type": "execute_result"
    },
    {
     "data": {
      "text/plain": [
       "array([[[ 1, 11],\n",
       "        [ 2, 12],\n",
       "        [ 3, 13]],\n",
       "\n",
       "       [[ 4, 14],\n",
       "        [ 5, 15],\n",
       "        [ 6, 16]],\n",
       "\n",
       "       [[ 7, 17],\n",
       "        [ 8, 18],\n",
       "        [ 9, 19]]])"
      ]
     },
     "execution_count": 53,
     "metadata": {},
     "output_type": "execute_result"
    }
   ],
   "source": [
    "# dstack -----> parllel elements in 2 arrays along the third axis (min 3D array is required)\n",
    "array1 = np.array([1,2,3])\n",
    "array2 = np.array([11,12,13])\n",
    "np.dstack((array1,array2))\n",
    "array1 = np.array([[1,2,3],[4,5,6],[7,8,9]])\n",
    "array2 = np.array([[11,12,13],[14,15,16],[17,18,19]])\n",
    "np.dstack((array1,array2))"
   ]
  },
  {
   "cell_type": "code",
   "execution_count": 54,
   "id": "555516e7",
   "metadata": {},
   "outputs": [
    {
     "data": {
      "text/plain": [
       "[array([[50, 51, 52, 53, 54],\n",
       "        [75, 76, 77, 78, 79]]),\n",
       " array([[55, 56, 57, 58, 59],\n",
       "        [80, 81, 82, 83, 84]]),\n",
       " array([[60, 61, 62, 63, 64],\n",
       "        [85, 86, 87, 88, 89]]),\n",
       " array([[65, 66, 67, 68, 69],\n",
       "        [90, 91, 92, 93, 94]]),\n",
       " array([[70, 71, 72, 73, 74],\n",
       "        [95, 96, 97, 98, 99]])]"
      ]
     },
     "execution_count": 54,
     "metadata": {},
     "output_type": "execute_result"
    }
   ],
   "source": [
    "# hsplit -----> horizontal split means dividing columns \n",
    "array2D = np.arange(50,100).reshape(2,25)\n",
    "np.hsplit(array2D,5)"
   ]
  },
  {
   "cell_type": "code",
   "execution_count": 55,
   "id": "13c91b6c",
   "metadata": {},
   "outputs": [
    {
     "data": {
      "text/plain": [
       "[array([[50, 51, 52, 53, 54, 55, 56, 57, 58, 59, 60, 61, 62, 63, 64, 65,\n",
       "         66, 67, 68, 69, 70, 71, 72, 73, 74],\n",
       "        [75, 76, 77, 78, 79, 80, 81, 82, 83, 84, 85, 86, 87, 88, 89, 90,\n",
       "         91, 92, 93, 94, 95, 96, 97, 98, 99]])]"
      ]
     },
     "execution_count": 55,
     "metadata": {},
     "output_type": "execute_result"
    }
   ],
   "source": [
    "# vsplit -----> vertical split means dividing rows \n",
    "array2D = np.arange(50,100).reshape(2,25)\n",
    "np.vsplit(array2D,1)"
   ]
  },
  {
   "cell_type": "code",
   "execution_count": 56,
   "id": "5768f163",
   "metadata": {},
   "outputs": [
    {
     "data": {
      "text/plain": [
       "array([['50', 'False', 'False', 'False', 'False', '55', 'False', 'False',\n",
       "        'False', 'False', '60', 'False', 'False', 'False', 'False', '65',\n",
       "        'False', 'False', 'False', 'False', '70', 'False', 'False',\n",
       "        'False', 'False'],\n",
       "       ['75', 'False', 'False', 'False', 'False', '80', 'False', 'False',\n",
       "        'False', 'False', '85', 'False', 'False', 'False', 'False', '90',\n",
       "        'False', 'False', 'False', 'False', '95', 'False', 'False',\n",
       "        'False', 'False']], dtype='<U11')"
      ]
     },
     "execution_count": 56,
     "metadata": {},
     "output_type": "execute_result"
    }
   ],
   "source": [
    "# where -----> returns values with some conditions\n",
    "array2D = np.arange(50,100).reshape(2,25)\n",
    "np.where(array2D%5==0, array2D , 'False')"
   ]
  },
  {
   "cell_type": "markdown",
   "id": "d3b0886b",
   "metadata": {},
   "source": [
    "### SET OPERATIONS"
   ]
  },
  {
   "cell_type": "code",
   "execution_count": 57,
   "id": "8af4b9b2",
   "metadata": {},
   "outputs": [
    {
     "data": {
      "text/plain": [
       "array([ 1,  2,  3,  4,  5,  6,  7,  8,  9, 11, 12, 13, 14, 15, 16, 17, 18,\n",
       "       19])"
      ]
     },
     "execution_count": 57,
     "metadata": {},
     "output_type": "execute_result"
    },
    {
     "data": {
      "text/plain": [
       "array([ 1,  2,  3,  4,  5,  6,  7,  8,  9, 11, 12, 13, 14, 15, 16, 17, 18,\n",
       "       19])"
      ]
     },
     "execution_count": 57,
     "metadata": {},
     "output_type": "execute_result"
    }
   ],
   "source": [
    "# union1d -----> combining\n",
    "array1 = np.array([[1,2,3],[4,5,6],[7,8,9]])\n",
    "array2 = np.array([[11,12,13],[14,15,16],[17,18,19]])\n",
    "np.union1d(array1,array2)\n",
    "np.union1d(array2,array1)"
   ]
  },
  {
   "cell_type": "code",
   "execution_count": 58,
   "id": "782fb030",
   "metadata": {},
   "outputs": [
    {
     "data": {
      "text/plain": [
       "array([], dtype=int32)"
      ]
     },
     "execution_count": 58,
     "metadata": {},
     "output_type": "execute_result"
    },
    {
     "data": {
      "text/plain": [
       "array([], dtype=int32)"
      ]
     },
     "execution_count": 58,
     "metadata": {},
     "output_type": "execute_result"
    }
   ],
   "source": [
    "# intersect1d -----> common\n",
    "array1 = np.array([[1,2,3],[4,5,6],[7,8,9]])\n",
    "array2 = np.array([[11,12,13],[14,15,16],[17,18,19]])\n",
    "np.intersect1d(array1,array2)\n",
    "np.intersect1d(array2,array1)"
   ]
  },
  {
   "cell_type": "code",
   "execution_count": 59,
   "id": "9bb496a7",
   "metadata": {},
   "outputs": [
    {
     "data": {
      "text/plain": [
       "array([1, 2, 3, 4, 5, 6, 7, 8, 9])"
      ]
     },
     "execution_count": 59,
     "metadata": {},
     "output_type": "execute_result"
    },
    {
     "data": {
      "text/plain": [
       "array([11, 12, 13, 14, 15, 16, 17, 18, 19])"
      ]
     },
     "execution_count": 59,
     "metadata": {},
     "output_type": "execute_result"
    }
   ],
   "source": [
    "# setdiff1d -----> subtracting array2 from array1 and printing remaining elements in array1\n",
    "array1 = np.array([[1,2,3],[4,5,6],[7,8,9]])\n",
    "array2 = np.array([[11,12,13],[14,15,16],[17,18,19]])\n",
    "np.setdiff1d(array1,array2)\n",
    "np.setdiff1d(array2,array1)"
   ]
  },
  {
   "cell_type": "markdown",
   "id": "37e0c132",
   "metadata": {},
   "source": [
    "### ARITHMETIC OPERATIONS"
   ]
  },
  {
   "cell_type": "code",
   "execution_count": 60,
   "id": "64272bd6",
   "metadata": {},
   "outputs": [
    {
     "data": {
      "text/plain": [
       "array([[12, 14, 16],\n",
       "       [18, 20, 22],\n",
       "       [24, 26, 28]])"
      ]
     },
     "execution_count": 60,
     "metadata": {},
     "output_type": "execute_result"
    },
    {
     "data": {
      "text/plain": [
       "array([[-10, -10, -10],\n",
       "       [-10, -10, -10],\n",
       "       [-10, -10, -10]])"
      ]
     },
     "execution_count": 60,
     "metadata": {},
     "output_type": "execute_result"
    },
    {
     "data": {
      "text/plain": [
       "array([[ 11,  24,  39],\n",
       "       [ 56,  75,  96],\n",
       "       [119, 144, 171]])"
      ]
     },
     "execution_count": 60,
     "metadata": {},
     "output_type": "execute_result"
    },
    {
     "data": {
      "text/plain": [
       "array([[0.09090909, 0.16666667, 0.23076923],\n",
       "       [0.28571429, 0.33333333, 0.375     ],\n",
       "       [0.41176471, 0.44444444, 0.47368421]])"
      ]
     },
     "execution_count": 60,
     "metadata": {},
     "output_type": "execute_result"
    },
    {
     "data": {
      "text/plain": [
       "array([[0, 0, 0],\n",
       "       [0, 0, 0],\n",
       "       [0, 0, 0]])"
      ]
     },
     "execution_count": 60,
     "metadata": {},
     "output_type": "execute_result"
    },
    {
     "data": {
      "text/plain": [
       "array([[1, 2, 3],\n",
       "       [4, 5, 6],\n",
       "       [7, 8, 9]])"
      ]
     },
     "execution_count": 60,
     "metadata": {},
     "output_type": "execute_result"
    },
    {
     "data": {
      "text/plain": [
       "array([[ 90,  96, 102],\n",
       "       [216, 231, 246],\n",
       "       [342, 366, 390]])"
      ]
     },
     "execution_count": 60,
     "metadata": {},
     "output_type": "execute_result"
    }
   ],
   "source": [
    "array1 = np.array([[1,2,3],[4,5,6],[7,8,9]])\n",
    "array2 = np.array([[11,12,13],[14,15,16],[17,18,19]])\n",
    "array1 + array2\n",
    "array1 - array2\n",
    "array1 * array2\n",
    "array1 / array2\n",
    "array1 // array2\n",
    "array1 % array2\n",
    "array1 @ array2"
   ]
  },
  {
   "cell_type": "markdown",
   "id": "5224a92b",
   "metadata": {},
   "source": [
    "### AGGREGATE FUNCTIONS"
   ]
  },
  {
   "cell_type": "code",
   "execution_count": 61,
   "id": "022cd7f4",
   "metadata": {},
   "outputs": [
    {
     "data": {
      "text/plain": [
       "array([[12, 14, 16],\n",
       "       [18, 20, 22],\n",
       "       [24, 26, 28]])"
      ]
     },
     "execution_count": 61,
     "metadata": {},
     "output_type": "execute_result"
    },
    {
     "data": {
      "text/plain": [
       "array([[-10, -10, -10],\n",
       "       [-10, -10, -10],\n",
       "       [-10, -10, -10]])"
      ]
     },
     "execution_count": 61,
     "metadata": {},
     "output_type": "execute_result"
    },
    {
     "data": {
      "text/plain": [
       "array([[ 11,  24,  39],\n",
       "       [ 56,  75,  96],\n",
       "       [119, 144, 171]])"
      ]
     },
     "execution_count": 61,
     "metadata": {},
     "output_type": "execute_result"
    },
    {
     "data": {
      "text/plain": [
       "array([[ 90,  96, 102],\n",
       "       [216, 231, 246],\n",
       "       [342, 366, 390]])"
      ]
     },
     "execution_count": 61,
     "metadata": {},
     "output_type": "execute_result"
    }
   ],
   "source": [
    "a1 = np.array([[1,2,3],[4,5,6],[7,8,9]])\n",
    "a2 = np.array([[11,12,13],[14,15,16],[17,18,19]])\n",
    "np.add(a1,a2)\n",
    "np.subtract(a1,a2)\n",
    "np.multiply(a1,a2)\n",
    "np.matmul(a1,a2)"
   ]
  },
  {
   "cell_type": "markdown",
   "id": "5bd40e5e",
   "metadata": {},
   "source": [
    "### append and concatenate"
   ]
  },
  {
   "cell_type": "code",
   "execution_count": 62,
   "id": "b54e469b",
   "metadata": {},
   "outputs": [
    {
     "data": {
      "text/plain": [
       "array([ 1,  2,  3,  4,  5,  6,  7,  8,  9, 11, 12, 13, 14, 15, 16, 17, 18,\n",
       "       19])"
      ]
     },
     "execution_count": 62,
     "metadata": {},
     "output_type": "execute_result"
    },
    {
     "data": {
      "text/plain": [
       "array([[ 1,  2,  3, 11, 12, 13],\n",
       "       [ 4,  5,  6, 14, 15, 16],\n",
       "       [ 7,  8,  9, 17, 18, 19]])"
      ]
     },
     "execution_count": 62,
     "metadata": {},
     "output_type": "execute_result"
    },
    {
     "data": {
      "text/plain": [
       "array([[ 1,  2,  3],\n",
       "       [ 4,  5,  6],\n",
       "       [ 7,  8,  9],\n",
       "       [11, 12, 13],\n",
       "       [14, 15, 16],\n",
       "       [17, 18, 19]])"
      ]
     },
     "execution_count": 62,
     "metadata": {},
     "output_type": "execute_result"
    },
    {
     "data": {
      "text/plain": [
       "array([[ 1,  2,  3],\n",
       "       [ 4,  5,  6],\n",
       "       [ 7,  8,  9],\n",
       "       [11, 12, 13],\n",
       "       [14, 15, 16],\n",
       "       [17, 18, 19]])"
      ]
     },
     "execution_count": 62,
     "metadata": {},
     "output_type": "execute_result"
    },
    {
     "data": {
      "text/plain": [
       "array([[ 1,  2,  3, 11, 12, 13],\n",
       "       [ 4,  5,  6, 14, 15, 16],\n",
       "       [ 7,  8,  9, 17, 18, 19]])"
      ]
     },
     "execution_count": 62,
     "metadata": {},
     "output_type": "execute_result"
    },
    {
     "data": {
      "text/plain": [
       "array([[ 1,  2,  3],\n",
       "       [ 4,  5,  6],\n",
       "       [ 7,  8,  9],\n",
       "       [11, 12, 13],\n",
       "       [14, 15, 16],\n",
       "       [17, 18, 19]])"
      ]
     },
     "execution_count": 62,
     "metadata": {},
     "output_type": "execute_result"
    }
   ],
   "source": [
    "# append -----> adding at the last of the array\n",
    "# concatenate -----> adding in left-right or up-down direction\n",
    "a1 = np.array([[1,2,3],[4,5,6],[7,8,9]])\n",
    "a2 = np.array([[11,12,13],[14,15,16],[17,18,19]])\n",
    "np.append(a1,a2)\n",
    "np.append(a1,a2,axis = 1)\n",
    "np.append(a1,a2,axis = 0)\n",
    "np.concatenate((a1,a2))\n",
    "np.concatenate((a1,a2) , axis = 1)\n",
    "np.concatenate((a1,a2) , axis = 0)"
   ]
  },
  {
   "cell_type": "markdown",
   "id": "fe394b79",
   "metadata": {},
   "source": [
    "### FILTERING ARRAYS"
   ]
  },
  {
   "cell_type": "code",
   "execution_count": 63,
   "id": "e4368da6",
   "metadata": {},
   "outputs": [
    {
     "data": {
      "text/plain": [
       "array([[False, False, False],\n",
       "       [False, False,  True],\n",
       "       [ True,  True,  True]])"
      ]
     },
     "execution_count": 63,
     "metadata": {},
     "output_type": "execute_result"
    },
    {
     "data": {
      "text/plain": [
       "array([[ True,  True,  True],\n",
       "       [ True, False, False],\n",
       "       [False, False, False]])"
      ]
     },
     "execution_count": 63,
     "metadata": {},
     "output_type": "execute_result"
    }
   ],
   "source": [
    "a1 = np.array([[1,2,3],[4,5,6],[7,8,9]])\n",
    "a2 = np.array([[11,12,13],[14,15,16],[17,18,19]])\n",
    "a1 > 5\n",
    "a2 < 15"
   ]
  },
  {
   "cell_type": "markdown",
   "id": "87df8d33",
   "metadata": {},
   "source": [
    "### NUMPY RANDOM NUMBERS"
   ]
  },
  {
   "cell_type": "code",
   "execution_count": 64,
   "id": "91757df5",
   "metadata": {},
   "outputs": [
    {
     "data": {
      "text/plain": [
       "array([[0.73852266, 0.13648889, 0.53915898],\n",
       "       [0.52860591, 0.01443914, 0.09355033]])"
      ]
     },
     "execution_count": 64,
     "metadata": {},
     "output_type": "execute_result"
    },
    {
     "data": {
      "text/plain": [
       "array([[[0.34382799, 0.93264099, 0.8842311 , 0.64566173, 0.02377194],\n",
       "        [0.95064584, 0.92935432, 0.3304532 , 0.07858602, 0.00227557]],\n",
       "\n",
       "       [[0.96278648, 0.70421358, 0.896093  , 0.46503482, 0.46104691],\n",
       "        [0.34854073, 0.5143381 , 0.37540582, 0.41779195, 0.06341905]],\n",
       "\n",
       "       [[0.52734075, 0.27658989, 0.33342812, 0.13278614, 0.1366226 ],\n",
       "        [0.89957934, 0.49498723, 0.05807134, 0.33452242, 0.12377241]],\n",
       "\n",
       "       [[0.53870482, 0.16490694, 0.46532209, 0.5397041 , 0.29180749],\n",
       "        [0.47948764, 0.26957061, 0.79508889, 0.96461773, 0.57594685]],\n",
       "\n",
       "       [[0.24273544, 0.67983993, 0.98140218, 0.20445534, 0.51912131],\n",
       "        [0.68808925, 0.67691453, 0.14367823, 0.22121446, 0.88537426]]])"
      ]
     },
     "execution_count": 64,
     "metadata": {},
     "output_type": "execute_result"
    }
   ],
   "source": [
    "# np.random.rand ----->\n",
    "# generates an array with random numbers that are uniformly distributed between 0 and 1\n",
    "array2D = np.random.rand(2,3)\n",
    "array3D = np.random.rand(5,2,5)\n",
    "array2D\n",
    "array3D"
   ]
  },
  {
   "cell_type": "code",
   "execution_count": 65,
   "id": "6b970b7c",
   "metadata": {},
   "outputs": [
    {
     "data": {
      "text/plain": [
       "array([[-0.72506201,  0.06380681, -1.17170102],\n",
       "       [-0.29041479, -0.80791029,  0.75431523]])"
      ]
     },
     "execution_count": 65,
     "metadata": {},
     "output_type": "execute_result"
    },
    {
     "data": {
      "text/plain": [
       "array([[[-1.04106681, -3.45872432, -1.51654647, -0.27882771,\n",
       "          0.5255089 ],\n",
       "        [ 1.11986915, -0.33433952, -0.45037297, -0.88679849,\n",
       "          0.08564817]],\n",
       "\n",
       "       [[ 1.77658616,  2.06753251,  0.24787539, -0.06495301,\n",
       "          0.33080563],\n",
       "        [-0.46495403,  0.73533233, -1.09532582, -0.98189206,\n",
       "          0.69421   ]],\n",
       "\n",
       "       [[ 0.78167419, -0.59946266,  1.96972697,  0.75172213,\n",
       "         -0.49426339],\n",
       "        [-1.00418697,  1.16210844,  0.31208454, -3.19474494,\n",
       "         -1.87584242]],\n",
       "\n",
       "       [[-1.01575143,  1.81017348,  0.37335583,  0.94938586,\n",
       "          0.50379988],\n",
       "        [-0.59844129,  1.19464824, -0.43627001,  1.14315985,\n",
       "         -1.12900401]],\n",
       "\n",
       "       [[-0.97313904,  0.53601495,  2.51185635,  0.14398478,\n",
       "          1.79497811],\n",
       "        [ 0.31792922,  0.81938158,  0.7922813 , -0.50044306,\n",
       "         -1.92899465]]])"
      ]
     },
     "execution_count": 65,
     "metadata": {},
     "output_type": "execute_result"
    },
    {
     "data": {
      "text/plain": [
       "-0.3628276781156079"
      ]
     },
     "execution_count": 65,
     "metadata": {},
     "output_type": "execute_result"
    },
    {
     "data": {
      "text/plain": [
       "0.022545777474002424"
      ]
     },
     "execution_count": 65,
     "metadata": {},
     "output_type": "execute_result"
    },
    {
     "data": {
      "text/plain": [
       "0.6349353269041779"
      ]
     },
     "execution_count": 65,
     "metadata": {},
     "output_type": "execute_result"
    },
    {
     "data": {
      "text/plain": [
       "1.2426215097892228"
      ]
     },
     "execution_count": 65,
     "metadata": {},
     "output_type": "execute_result"
    }
   ],
   "source": [
    "# np.random.randn ----->\n",
    "# generates an array with random numbers that are normally distributed with mean = 0 and sd = 1\n",
    "array2D = np.random.randn(2,3)\n",
    "array3D = np.random.randn(5,2,5)\n",
    "array2D\n",
    "array3D\n",
    "np.mean(array2D)\n",
    "np.mean(array3D)\n",
    "np.std(array2D)\n",
    "np.std(array3D)"
   ]
  },
  {
   "cell_type": "code",
   "execution_count": 66,
   "id": "64326966",
   "metadata": {},
   "outputs": [
    {
     "data": {
      "text/plain": [
       "array([[22, 49, 34],\n",
       "       [48, 35, 36]])"
      ]
     },
     "execution_count": 66,
     "metadata": {},
     "output_type": "execute_result"
    },
    {
     "data": {
      "text/plain": [
       "array([[[16, 37, 38, 12, 39],\n",
       "        [ 4, 15,  9, 38, 39]],\n",
       "\n",
       "       [[15, 39,  2, 28, 17],\n",
       "        [49,  5,  8,  0, 28]],\n",
       "\n",
       "       [[46, 34, 20, 24, 25],\n",
       "        [13, 42, 21,  2, 35]],\n",
       "\n",
       "       [[23, 12,  7, 25, 33],\n",
       "        [ 8, 45,  8, 13, 20]],\n",
       "\n",
       "       [[11, 21,  8, 37,  2],\n",
       "        [ 0, 17, 14, 16, 17]]])"
      ]
     },
     "execution_count": 66,
     "metadata": {},
     "output_type": "execute_result"
    },
    {
     "data": {
      "text/plain": [
       "array([[74, 55, 74],\n",
       "       [77, 80, 65]])"
      ]
     },
     "execution_count": 66,
     "metadata": {},
     "output_type": "execute_result"
    },
    {
     "data": {
      "text/plain": [
       "array([[[60, 84, 60, 58, 51],\n",
       "        [66, 81, 73, 76, 86]],\n",
       "\n",
       "       [[65, 94, 95, 76, 75],\n",
       "        [89, 59, 66, 80, 59]],\n",
       "\n",
       "       [[67, 97, 58, 87, 85],\n",
       "        [62, 78, 82, 70, 64]],\n",
       "\n",
       "       [[97, 71, 85, 71, 56],\n",
       "        [55, 52, 62, 73, 78]],\n",
       "\n",
       "       [[91, 84, 72, 70, 82],\n",
       "        [81, 71, 94, 86, 64]]])"
      ]
     },
     "execution_count": 66,
     "metadata": {},
     "output_type": "execute_result"
    }
   ],
   "source": [
    "# np.random.randint ----->\n",
    "# generates an array with random numbers that are uniformly distributed between 0 and given integer\n",
    "array2D = np.random.randint(50 , size = (2,3))\n",
    "array3D = np.random.randint(50 , size = (5,2,5))\n",
    "array2D\n",
    "array3D\n",
    "array2D = np.random.randint(50,100 , size = (2,3))\n",
    "array3D = np.random.randint(50,100 , size = (5,2,5))\n",
    "array2D\n",
    "array3D"
   ]
  },
  {
   "cell_type": "code",
   "execution_count": 67,
   "id": "f0f2767a",
   "metadata": {},
   "outputs": [
    {
     "data": {
      "text/plain": [
       "array([[58.08107549, 59.19999339, 50.4455265 ],\n",
       "       [59.53420965, 57.62848807, 52.49294163]])"
      ]
     },
     "execution_count": 67,
     "metadata": {},
     "output_type": "execute_result"
    },
    {
     "data": {
      "text/plain": [
       "array([[[56.33484997, 51.36593366, 50.12284963, 50.90397347,\n",
       "         51.64151352],\n",
       "        [54.48805357, 50.24061128, 59.12978629, 53.59953142,\n",
       "         58.24837312]],\n",
       "\n",
       "       [[59.33309958, 53.60847997, 58.08756768, 55.09026226,\n",
       "         54.63170511],\n",
       "        [58.32622648, 57.86718979, 57.97612955, 51.75422559,\n",
       "         54.09754091]],\n",
       "\n",
       "       [[50.62929404, 55.46738389, 59.51742497, 58.18127459,\n",
       "         52.20092921],\n",
       "        [57.85686147, 54.84606342, 58.27986889, 51.28433562,\n",
       "         53.98837771]],\n",
       "\n",
       "       [[57.72848316, 57.25488931, 59.03889523, 56.9631553 ,\n",
       "         58.7395658 ],\n",
       "        [51.39892037, 52.67807507, 54.71100669, 56.59577328,\n",
       "         55.23045266]],\n",
       "\n",
       "       [[58.9087324 , 55.30114271, 59.79107167, 51.93925366,\n",
       "         59.7970863 ],\n",
       "        [59.16856338, 50.12710831, 52.07736615, 57.20029033,\n",
       "         55.11662641]]])"
      ]
     },
     "execution_count": 67,
     "metadata": {},
     "output_type": "execute_result"
    }
   ],
   "source": [
    "# np.random.uniform ----->\n",
    "# generates array with random numbers that are uniformly distributed within the given range of values\n",
    "array2D = np.random.uniform(50,60 , size = (2,3))\n",
    "array3D = np.random.uniform(50,60 , size = (5,2,5))\n",
    "array2D\n",
    "array3D"
   ]
  },
  {
   "cell_type": "code",
   "execution_count": 68,
   "id": "cc1ad487",
   "metadata": {},
   "outputs": [
    {
     "data": {
      "text/plain": [
       "array([[20,  2, 42],\n",
       "       [ 7, 25, 46]])"
      ]
     },
     "execution_count": 68,
     "metadata": {},
     "output_type": "execute_result"
    },
    {
     "data": {
      "text/plain": [
       "array([[[19, 18, 44, 36, 14],\n",
       "        [ 5, 36, 29, 30,  5]],\n",
       "\n",
       "       [[ 7,  1, 22, 16, 15],\n",
       "        [25, 28, 22, 42, 39]],\n",
       "\n",
       "       [[16, 10, 35, 41, 47],\n",
       "        [12, 29, 11, 40, 39]],\n",
       "\n",
       "       [[15,  9, 20, 21, 10],\n",
       "        [43, 39, 38, 49, 21]],\n",
       "\n",
       "       [[45, 23, 40,  5, 46],\n",
       "        [ 3, 21, 37, 35, 16]]])"
      ]
     },
     "execution_count": 68,
     "metadata": {},
     "output_type": "execute_result"
    }
   ],
   "source": [
    "# np.random.seed ----->\n",
    "# puts the random values constant even though we execute the random code for multiple times\n",
    "np.random.seed(1372)\n",
    "array2D = np.random.randint(50 , size = (2,3))\n",
    "array3D = np.random.randint(50 , size = (5,2,5))\n",
    "array2D\n",
    "array3D"
   ]
  },
  {
   "cell_type": "markdown",
   "id": "c4e1660a",
   "metadata": {},
   "source": [
    "### EXPANDING AND SQUEEZING"
   ]
  },
  {
   "cell_type": "code",
   "execution_count": 69,
   "id": "5824c8ff",
   "metadata": {},
   "outputs": [
    {
     "data": {
      "text/plain": [
       "array([1, 2, 3, 4, 5, 6, 7, 8, 9])"
      ]
     },
     "execution_count": 69,
     "metadata": {},
     "output_type": "execute_result"
    },
    {
     "data": {
      "text/plain": [
       "1"
      ]
     },
     "execution_count": 69,
     "metadata": {},
     "output_type": "execute_result"
    },
    {
     "data": {
      "text/plain": [
       "array([[1, 2, 3, 4, 5, 6, 7, 8, 9]])"
      ]
     },
     "execution_count": 69,
     "metadata": {},
     "output_type": "execute_result"
    },
    {
     "data": {
      "text/plain": [
       "2"
      ]
     },
     "execution_count": 69,
     "metadata": {},
     "output_type": "execute_result"
    },
    {
     "data": {
      "text/plain": [
       "array([[1],\n",
       "       [2],\n",
       "       [3],\n",
       "       [4],\n",
       "       [5],\n",
       "       [6],\n",
       "       [7],\n",
       "       [8],\n",
       "       [9]])"
      ]
     },
     "execution_count": 69,
     "metadata": {},
     "output_type": "execute_result"
    },
    {
     "data": {
      "text/plain": [
       "2"
      ]
     },
     "execution_count": 69,
     "metadata": {},
     "output_type": "execute_result"
    }
   ],
   "source": [
    "# expand_dims() ----->\n",
    "# can add a new axis to an array using the expand_dims() method \n",
    "# by providing the array and the axis along which to expand\n",
    "a1 = np.array([1,2,3,4,5,6,7,8,9])\n",
    "a1\n",
    "a1.ndim\n",
    "a2 = np.expand_dims(a1 , axis = 0)\n",
    "a2\n",
    "a2.ndim\n",
    "a2 = np.expand_dims(a1 , axis = 1)\n",
    "a2\n",
    "a2.ndim"
   ]
  },
  {
   "cell_type": "code",
   "execution_count": 70,
   "id": "4b3a724f",
   "metadata": {},
   "outputs": [
    {
     "data": {
      "text/plain": [
       "array([[[1, 2, 3, 4, 5, 6, 7, 8, 9]]])"
      ]
     },
     "execution_count": 70,
     "metadata": {},
     "output_type": "execute_result"
    },
    {
     "data": {
      "text/plain": [
       "3"
      ]
     },
     "execution_count": 70,
     "metadata": {},
     "output_type": "execute_result"
    },
    {
     "data": {
      "text/plain": [
       "array([[1, 2, 3, 4, 5, 6, 7, 8, 9]])"
      ]
     },
     "execution_count": 70,
     "metadata": {},
     "output_type": "execute_result"
    },
    {
     "data": {
      "text/plain": [
       "2"
      ]
     },
     "execution_count": 70,
     "metadata": {},
     "output_type": "execute_result"
    },
    {
     "data": {
      "text/plain": [
       "array([[1, 2, 3, 4, 5, 6, 7, 8, 9]])"
      ]
     },
     "execution_count": 70,
     "metadata": {},
     "output_type": "execute_result"
    },
    {
     "data": {
      "text/plain": [
       "2"
      ]
     },
     "execution_count": 70,
     "metadata": {},
     "output_type": "execute_result"
    }
   ],
   "source": [
    "# squeeze() -----> removes the axis that has a single entry\n",
    "a1 = np.array([[[1,2,3,4,5,6,7,8,9]]])\n",
    "a1\n",
    "a1.ndim\n",
    "a2 = np.squeeze(a1 , axis = 0)\n",
    "a2\n",
    "a2.ndim\n",
    "a2 = np.squeeze(a1 , axis = 1)\n",
    "a2\n",
    "a2.ndim"
   ]
  }
 ],
 "metadata": {
  "kernelspec": {
   "display_name": "Python 3 (ipykernel)",
   "language": "python",
   "name": "python3"
  },
  "language_info": {
   "codemirror_mode": {
    "name": "ipython",
    "version": 3
   },
   "file_extension": ".py",
   "mimetype": "text/x-python",
   "name": "python",
   "nbconvert_exporter": "python",
   "pygments_lexer": "ipython3",
   "version": "3.10.9"
  }
 },
 "nbformat": 4,
 "nbformat_minor": 5
}
